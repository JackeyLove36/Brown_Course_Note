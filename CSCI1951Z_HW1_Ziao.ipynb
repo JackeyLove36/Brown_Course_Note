{
  "nbformat": 4,
  "nbformat_minor": 0,
  "metadata": {
    "colab": {
      "provenance": [],
      "include_colab_link": true
    },
    "kernelspec": {
      "name": "python3",
      "display_name": "Python 3"
    },
    "language_info": {
      "name": "python"
    }
  },
  "cells": [
    {
      "cell_type": "markdown",
      "metadata": {
        "id": "view-in-github",
        "colab_type": "text"
      },
      "source": [
        "<a href=\"https://colab.research.google.com/github/JackeyLove36/Brown_Course_Note/blob/main/CSCI1951Z_HW1_Ziao.ipynb\" target=\"_parent\"><img src=\"https://colab.research.google.com/assets/colab-badge.svg\" alt=\"Open In Colab\"/></a>"
      ]
    },
    {
      "cell_type": "markdown",
      "source": [
        "Welcome to your first assignment! In this assignment, you will be learning about:\n",
        "\n",
        "1. how to assess real-world deployments of algorithms for bias,\n",
        "2. how to interpret the values of fairness measures and evaluate the efficacy of proposed fairness measures.\n",
        "3. how simple interventions when training a model might affect the fairness as measured using different approaches\n",
        "\n",
        "We will be using Google Colab Notebook for the first assignment. We will provide a few tips on how to use Colab and make sure you read them carefully!\n",
        "\n",
        "☝ **Quick Colab Tips:**\n",
        "\n",
        "*   Make sure you **create a copy** of the Colab before you start coding!!! (File->Save a copy in Drive). If you don't do this, you will lose everything when you close the page and we DON'T want that to happen to you!\n",
        "*   Make sure you hit every play button that you need in previous cells, so that all functions & variables you need are defined.\n",
        "*   If you don't want to click everything individually, you can click Runtime and you will find \"Run Before\", \"Run After\", or \"Run All\".\n",
        "*   When you reload the page, the runtime restarts and all variables in the environment are cleared, so you will need to re-run cells.\n",
        "*   If you make changes to a definition in an earlier cell, remember to run the cell to actually update the definition. Then remember to re-run the cells after, or else they will still be using the previous value.\n",
        "*   For more tips on getting started, please take a look at this [video](https://www.youtube.com/watch?v=inN8seMm7UI&ab_channel=TensorFlow)."
      ],
      "metadata": {
        "id": "O6pW9OzLM5Hx"
      }
    },
    {
      "cell_type": "markdown",
      "source": [
        "# Section 1: Analyzing a real-world scenario for sources of bias"
      ],
      "metadata": {
        "id": "k0o1CCKTMkI_"
      }
    },
    {
      "cell_type": "markdown",
      "source": [
        "We have discussed the different forms of bias that arise when designing a human-facing automated decision system. For reference, look at Figure 2 from the [NIST Special Publication](https://nvlpubs.nist.gov/nistpubs/SpecialPublications/NIST.SP.1270.pdf) on identifying and managing bias in AI.\n",
        "\n",
        "In this question you will apply your understanding of statistical/computational biases to a real-world scenario. The goal is to identify potential sources of bias in the example and list them with justification. Make sure to distinguish whether the identified sources are likely to appear in the data collection/representation stage, the training/model building phase, or the inference/action stage of the data processing pipeline.\n",
        "\n",
        "## The Scenario\n",
        "\n",
        "Health care systems use automated tools to determine whether a patient should be admitted into an intensive \"care management system\" to cure what ails them. The idea is to determine which patients can benefit the most from being admitted to the system because it is expensive, and not everyone can be enrolled.\n",
        "\n",
        "It is hard to know who will benefit the most, so the systems instead try to predict a proxy: who will incur the most health care costs. The idea is that if your health care costs are predicted to be large, you probably need intensive treatments to be cured, and so you're likely to benefit.\n",
        "\n",
        "The algorithm that makes this prediction uses the following training data set:\n",
        "input features for an individual are are a list of insurance claim data from the previous year. Each such claim consists of\n",
        "\n",
        "\n",
        "1. demographic information (age, sex, but not race)\n",
        "2. type of insurance (private, medicare, medicaid, hmo, etc, )\n",
        "3. disease diagnosis (usually expressed in a standard code)\n",
        "4. Procedures performed (X-rays, MRIs, surgeries, etc, each expressed with a specific code)\n",
        "5. Medications\n",
        "6. Costs\n",
        "\n",
        "The goal is to predict the cost of care this year. Formally, this is a regression problem with a mix of numerical and categorical variables, and a numeric output.\n",
        "\n",
        "**Question:** For each category of bias (refer to the NIST figure), discuss what specific biases might arise in this scenario and how. (6-9 sentences per scenario)"
      ],
      "metadata": {
        "id": "GLRHnHMKOWOP"
      }
    },
    {
      "cell_type": "markdown",
      "source": [
        "**Solution**\n",
        "\n",
        "In my perspectives, measurement bias in the category of statistical or computational bias would emerge. According to the explanation in NIST publication, measurement bias usually arises when features and labels are proxies for desired quantities, potentially leaving out important factors or introducing group or input-dependent noise that leads to differential performance. Therefore, considering that if health care systems collect the demographic information consisting of only age and sex and no other information, rural and low-income populations would not be predicted accurately. Because the dataset is mainly consisting of insurance claims from urban areas or affluent neighborhoods. Normally, rural or low-income populations face significant challenges to accessing healthcare, including the ability to purchase healthcare insurance or afford healthcare services. The lack of the access from these populations would lead to underrepresentation or complete absence of healthcare claims in the dataset used for predictive modeling. Therefore, I think that health care systems should collect more demographic information such as race and geographic region to reduce the influence of measurement bias.\n",
        "\n",
        "(检查）\n",
        "\n",
        "\n",
        "\n",
        "\n",
        "\n",
        "\n",
        "\n",
        "\n",
        "\n",
        "\n",
        "\n",
        "\n",
        "\n",
        "\n",
        "\n",
        "\n"
      ],
      "metadata": {
        "id": "7InUURYay2g2"
      }
    },
    {
      "cell_type": "markdown",
      "source": [
        "#Section 2: Experimenting with the ways in which design choices affect fairness"
      ],
      "metadata": {
        "id": "KLL-DgqPMvJ7"
      }
    },
    {
      "cell_type": "markdown",
      "source": [
        "### Installation"
      ],
      "metadata": {
        "id": "eSXTy2-oOdTq"
      }
    },
    {
      "cell_type": "code",
      "source": [
        "!pip install scikit-learn --quiet\n",
        "!pip install folktables --quiet"
      ],
      "metadata": {
        "id": "NKV3YWA1bg7H"
      },
      "execution_count": 156,
      "outputs": []
    },
    {
      "cell_type": "code",
      "source": [
        "import numpy as np\n",
        "from sklearn.linear_model import LogisticRegression\n",
        "from sklearn.model_selection import train_test_split\n",
        "from sklearn.pipeline import make_pipeline\n",
        "from sklearn.preprocessing import StandardScaler\n",
        "from folktables import ACSDataSource, ACSPublicCoverage"
      ],
      "metadata": {
        "id": "bALR4XI-bbOW"
      },
      "execution_count": 157,
      "outputs": []
    },
    {
      "cell_type": "markdown",
      "source": [
        "## Section 2a: How do we measure fairness?"
      ],
      "metadata": {
        "id": "j05a8o3RTwhu"
      }
    },
    {
      "cell_type": "markdown",
      "source": [
        "In the task below, we are building a model to predict public healthcare coverage based on attributes of the individual such as age and sex. We will explore different measurements of fairness and see how they compare and contrast."
      ],
      "metadata": {
        "id": "45GPI-opClJc"
      }
    },
    {
      "cell_type": "markdown",
      "source": [
        "### Dataset and Preprocessing"
      ],
      "metadata": {
        "id": "PltCoRUkPBB1"
      }
    },
    {
      "cell_type": "markdown",
      "source": [
        "In this part of the assignment, you will be working with a dataset from [Folktables](https://github.com/zykls/folktables), a Python package that provides access to datasets derived from the US Census. The data provided by this library is sourced from the [American Community Survey](https://www.census.gov/programs-surveys/acs), a demographics survey program that gathers information about individuals' educational attainment, income, employment, demographic information, etc. This is particularly useful for measuring fairness in machine learning models as you will see later on this the next section.\n",
        "\n",
        "First, you will need download and process a dataset from California 2018. We have provided you with the code which handles preprocessing and train-test splitting. In the context of this assignment, you will be working with the `ACSPublicCoverage` prediction task as [defined by Folktables](https://github.com/socialfoundations/folktables#prediction-tasks-in-folktables).\n",
        "\n",
        "*   This is a binary classification task that asks you to predict whether a person has a public coverage or not based on the given a set of features such as age, sex, race, and different types of disabilities.\n",
        "*   One of the features used in prediction is race which is a sensitive attribute and ideally should not have a correlation with the prediction. Your goal is utilize different techniques to make your model more fair in its prediction.\n",
        "\n",
        "Let us begin by observing the dataset. You might find the [Data Dictionary](https://www2.census.gov/programs-surveys/acs/tech_docs/pums/data_dict/PUMS_Data_Dictionary_2018.pdf) of the [ACS PUMS documentation](https://www.census.gov/programs-surveys/acs/microdata/documentation.html) helpful when interpreting the feature codings."
      ],
      "metadata": {
        "id": "zUGwfu2hQJVU"
      }
    },
    {
      "cell_type": "code",
      "source": [
        "from folktables import ACSDataSource, ACSPublicCoverage\n",
        "\n",
        "# import data source form ACS\n",
        "data_source = ACSDataSource(survey_year='2018', horizon='1-Year', survey='person')\n",
        "acs_data = data_source.get_data(states=[\"CA\"], download=True)\n",
        "prediction_task = ACSPublicCoverage\n",
        "\n",
        "# gather columns defined in the ACSPublicCoverage prediction task\n",
        "features, label, group = prediction_task.df_to_numpy(acs_data)\n",
        "\n",
        "# aggregate features and target variable into the same dataframe\n",
        "acs_public_coverage_data = acs_data[prediction_task.features\n",
        "                               + [prediction_task.target]]\n",
        "\n",
        "###### Data summary ######\n",
        "print(acs_public_coverage_data.head())\n",
        "print(\"features used for predictions: \"   + str(prediction_task.features))\n",
        "print(\"group membership variable: \"       + str(prediction_task.group))\n",
        "print(\"the target variable of interest: \" + str(prediction_task.target))"
      ],
      "metadata": {
        "id": "1uuSaGyfWudV",
        "colab": {
          "base_uri": "https://localhost:8080/",
          "height": 0
        },
        "outputId": "04e75570-c3f3-480b-c0c4-b1cd89f5361e"
      },
      "execution_count": 158,
      "outputs": [
        {
          "output_type": "stream",
          "name": "stdout",
          "text": [
            "   AGEP  SCHL  MAR  SEX  DIS  ESP  CIT  MIG  MIL  ANC  NATIVITY  DEAR  DEYE  \\\n",
            "0    30  14.0    1    1    2  NaN    1  3.0  4.0    1         1     2     2   \n",
            "1    18  14.0    5    2    2  NaN    1  1.0  4.0    1         1     2     2   \n",
            "2    69  17.0    1    1    1  NaN    1  1.0  2.0    2         1     2     2   \n",
            "3    25   1.0    5    1    1  NaN    1  1.0  4.0    1         1     1     2   \n",
            "4    31  18.0    5    2    2  NaN    1  1.0  4.0    1         1     2     2   \n",
            "\n",
            "   DREM    PINCP  ESR  ST  FER  RAC1P  PUBCOV  \n",
            "0   2.0  48500.0  6.0   6  NaN      8       1  \n",
            "1   2.0      0.0  6.0   6  2.0      1       2  \n",
            "2   2.0  13100.0  6.0   6  NaN      9       1  \n",
            "3   1.0      0.0  6.0   6  NaN      1       1  \n",
            "4   2.0      0.0  6.0   6  2.0      1       1  \n",
            "features used for predictions: ['AGEP', 'SCHL', 'MAR', 'SEX', 'DIS', 'ESP', 'CIT', 'MIG', 'MIL', 'ANC', 'NATIVITY', 'DEAR', 'DEYE', 'DREM', 'PINCP', 'ESR', 'ST', 'FER', 'RAC1P']\n",
            "group membership variable: RAC1P\n",
            "the target variable of interest: PUBCOV\n"
          ]
        }
      ]
    },
    {
      "cell_type": "markdown",
      "source": [
        "As you can see, this summary doesn't really give us any information more than what attributes are used in the prediction task or what the prediction target is. One simple way to better our understanding is to visualize the distribution of some features of interest such as group membership attributes or the target label. We will explore both possibilities here."
      ],
      "metadata": {
        "id": "g0eZ4oki-QYp"
      }
    },
    {
      "cell_type": "code",
      "source": [
        "import matplotlib.pyplot as plt\n",
        "\n",
        "race_coding = [\n",
        "    'White alone',\n",
        "    'Black or African American alone',\n",
        "    'American Indian alone',\n",
        "    'Alaska Native alone',\n",
        "    'American Indian and ...',    # American Indian and Alaska Native tribes specified;\n",
        "                                  # or American Indian or Alaska Native, not specified\n",
        "                                  # and no other races\n",
        "    'Asian alone',\n",
        "    'Native Hawaiian',            # Native Hawaiian and Other Pacific Islander alone\n",
        "    'Some Other Race alone',\n",
        "    'Two or More Races']\n",
        "\n",
        "ax = (acs_public_coverage_data\n",
        "      .groupby([prediction_task.group])\n",
        "      .size()\n",
        "      .set_axis(race_coding)\n",
        "      .plot(kind='barh')\n",
        ")\n",
        "\n",
        "ax.set_xlabel('Count')\n",
        "ax.set_ylabel('Race')\n",
        "ax.set_title('Distribution of Public Coverage Samples in Dataset by Race')\n",
        "\n",
        "plt.show()"
      ],
      "metadata": {
        "id": "ktSh-oySpUCa",
        "colab": {
          "base_uri": "https://localhost:8080/",
          "height": 472
        },
        "outputId": "091e989f-b1a4-4ac6-810f-ac835225bfe5"
      },
      "execution_count": 159,
      "outputs": [
        {
          "output_type": "display_data",
          "data": {
            "text/plain": [
              "<Figure size 640x480 with 1 Axes>"
            ],
            "image/png": "[encoded data removed]"
          },
          "metadata": {}
        }
      ]
    },
    {
      "cell_type": "code",
      "source": [
        "health_coverage_coding = [\n",
        "    'With',\n",
        "    'Without']\n",
        "\n",
        "ax = (acs_public_coverage_data\n",
        "      .groupby([prediction_task.target])\n",
        "      .size()\n",
        "      .set_axis(health_coverage_coding)\n",
        "      .plot(kind='bar', rot=0)\n",
        ")\n",
        "\n",
        "ax.set_xlabel('Public Health Coverage')\n",
        "ax.set_ylabel('Count')\n",
        "ax.set_title('Distribution of Public Coverage Samples in Dataset by Label')\n",
        "\n",
        "plt.show()"
      ],
      "metadata": {
        "id": "4lZ2bW2nTrJ7",
        "colab": {
          "base_uri": "https://localhost:8080/",
          "height": 472
        },
        "outputId": "ccd707be-84fa-4fd3-99a2-2a4bf2612d95"
      },
      "execution_count": 160,
      "outputs": [
        {
          "output_type": "display_data",
          "data": {
            "text/plain": [
              "<Figure size 640x480 with 1 Axes>"
            ],
            "image/png": "[encoded data removed]"
          },
          "metadata": {}
        }
      ]
    },
    {
      "cell_type": "markdown",
      "source": [
        "**Question:** What do you observe when it comes to the distribution of race and public health coverage? Take a moment to think about how this might affect the model's performance and fairness. (4-6 sentences)"
      ],
      "metadata": {
        "id": "Bl_S_B_SO-ve"
      }
    },
    {
      "cell_type": "markdown",
      "source": [
        "**Solution**\n",
        "\n",
        "Firstly, from the figure in Distribution of Public Coverage Samples in Dataset by Label, we notice that there are more people without public health converage in the dataset. Then, from the figure in Distribution of Public Coverage Samples in Dataset by Race, we notice that White alone has the significant number of people with public health converage, and Asian alone as well as Some other race alone have comparatively large number of people with public health converage. However, marginalized racial and ethnic groups such as Black or African American alone, American Indian alone and Native Hawaiian have few of people with public health converage. Therefore, to predict public healthcare coverage using this model is inaccurate in prediction especially for marginalized racial and ethnic groups because of the component of the dataset. We have few datas related to marginalized racial and ethnic groups, which generate the underestimate of the healthcare costs for these groups and lead to inequitable resource allocation. Measurement bias arises and influences the fairness of this model, which aims to ensure equitable outcomes for all demographic groups.\n",
        "\n",
        "(检查）\n",
        "\n",
        "\n",
        "\n",
        "\n"
      ],
      "metadata": {
        "id": "s4E-3069rma3"
      }
    },
    {
      "cell_type": "markdown",
      "source": [
        "### Training"
      ],
      "metadata": {
        "id": "sI6MNm1RPFGx"
      }
    },
    {
      "cell_type": "markdown",
      "source": [
        "Here, you will define your training function with Logistic Regression. You can check out sklearn documentation for [Logistic Regression ](https://scikit-learn.org/stable/modules/generated/sklearn.linear_model.LogisticRegression.html)here.\n",
        "\n",
        "We will be using the [`make_pipeline`](https://scikit-learn.org/stable/modules/generated/sklearn.pipeline.make_pipeline.html) and [`StandardScaler()`](https://scikit-learn.org/stable/modules/generated/sklearn.preprocessing.StandardScaler.html)when initializing the Logistic Regression model. You can read their documentations to learn more about these two functions."
      ],
      "metadata": {
        "id": "AzkqMprrQiZ9"
      }
    },
    {
      "cell_type": "code",
      "source": [
        "from sklearn.pipeline import make_pipeline\n",
        "from sklearn.linear_model import LogisticRegression\n",
        "\n",
        "def train(X_train, y_train):\n",
        "  \"\"\"\n",
        "  Defines and trains a logistic regression model on the training data.\n",
        "\n",
        "  Args:\n",
        "    X_train (np.ndarray): Training inputs.\n",
        "    y_train (np.ndarray): Training labels.\n",
        "\n",
        "  Returns:\n",
        "    sklearn.pipeline.Pipeline: trained model\n",
        "  \"\"\"\n",
        "  clf = LogisticRegression()\n",
        "  scaler = StandardScaler()\n",
        "  model=make_pipeline(scaler,clf)\n",
        "  model.fit(X_train,y_train)\n",
        "  return model"
      ],
      "metadata": {
        "id": "6K456CTaPISI"
      },
      "execution_count": 161,
      "outputs": []
    },
    {
      "cell_type": "markdown",
      "source": [
        "### Evaluation: Independence, Separation, Sufficiency"
      ],
      "metadata": {
        "id": "LnsKd2vDPLEA"
      }
    },
    {
      "cell_type": "markdown",
      "source": [
        "In this section, you will implement three fairness measurements: independence, separation,\n",
        "and sufficiency. With these three measurements, we can evalute how fair our model is in making predictions.\n",
        "\n",
        "Here are how the measurements are calculated:"
      ],
      "metadata": {
        "id": "4VvhDEDAQrHB"
      }
    },
    {
      "cell_type": "markdown",
      "source": [
        "**Definition 1: Independence**\n",
        "\n",
        "*Random variables $(A, R)$ satisfy independence if $A \\perp R$*\n",
        "\n",
        "Let $\\text{independence} = \\frac{P\\{ \\hat{Y} = 1\\ | A = a\\}}{P\\{ \\hat{Y} = 1\\ | A = b\\}}$\n",
        "\n",
        "Then $A \\perp R$ is equivalent to saying that $\\text{independence} = 1$\n",
        "\n",
        "Here, $\\hat{Y}$ is our prediction from the model and $A$ is the feature we want to evaluate the independence against the prediction on.\n"
      ],
      "metadata": {
        "id": "59UZKKHfHzLw"
      }
    },
    {
      "cell_type": "code",
      "source": [
        "def independence(y_hat, group):\n",
        "  \"\"\"\n",
        "  Computes an independence metric between two specific groups.\n",
        "\n",
        "  Args:\n",
        "    y_hat (np.ndarray): Classifier predictions.\n",
        "    group (np.ndarray): Array of indices corresponding to group membership.\n",
        "      For this assignment, we will focus on comparing groups 1 and 2.\n",
        "      These correspond to the 'White alone' and 'Black or African American'\n",
        "      groups. Note that one can also compare different combinations of groups.\n",
        "\n",
        "  Returns:\n",
        "    float: independence measure\n",
        "  \"\"\"\n",
        "  # TODO: compute independence\n",
        "  conditional_above=np.sum((y_hat==False)&(group==1))/np.sum(group==1)\n",
        "  conditional_below=np.sum((y_hat==False)&(group==2))/np.sum(group==2)\n",
        "  independence_metric=conditional_above/conditional_below\n",
        "  return independence_metric"
      ],
      "metadata": {
        "id": "pY6Jck63H4lt"
      },
      "execution_count": 162,
      "outputs": []
    },
    {
      "cell_type": "markdown",
      "source": [
        "**Definition 2: Separation**\n",
        "\n",
        "*Random variables $(R, A, Y)$ satisfy separation if $R\\perp A| Y$*\n",
        "\n",
        "In the case of a binary classifier (what we are doing in this assignment, separation is equivalent to requiring for all groups $a,b$ the two constraints\n",
        "\n",
        "$\\text{Separation}_{\\text{true positive}} = \\frac{P\\{ \\hat {Y} = 1 | Y = 1, A = a\\}} {P \\{\\hat{Y} = 1 | Y = 1, A = b\\}}$\n",
        "<br>\n",
        "<br>\n",
        "$\\text{Separation}_{\\text{false positive}} = \\frac{P\\{ \\hat {Y} = 1 | Y = 0, A = a\\}}{P \\{\\hat{Y} = 1 | Y = 0, A = b\\}}$"
      ],
      "metadata": {
        "id": "u4EhA0wYH_lM"
      }
    },
    {
      "cell_type": "code",
      "source": [
        "def separation(y_hat, y_true, group):\n",
        "  \"\"\"\n",
        "  Computes a separation metric between two specific groups.\n",
        "\n",
        "  Args:\n",
        "    y_hat  (np.ndarray): Classifier predictions.\n",
        "    y_true (np.ndarray): Data labels.\n",
        "    group  (np.ndarray): Array of indices corresponding to group membership.\n",
        "      For this assignment, we will focus on comparing groups 1 and 2.\n",
        "      These correspond to the 'White alone' and 'Black or African American'\n",
        "      groups. Note that one can also compare different combinations of groups.\n",
        "\n",
        "  Returns:\n",
        "    float: separation true positive\n",
        "    float: separation false positive\n",
        "  \"\"\"\n",
        "  # TODO: compute separation\n",
        "  separation_true_above=np.sum((y_hat==False)&(y_true==False)&(group==1))/np.sum((y_true==False)&(group==1))\n",
        "  separation_true_below=np.sum((y_hat==False)&(y_true==False)&(group==2))/np.sum((y_true==False)&(group==2))\n",
        "  separation_true=separation_true_above/separation_true_below\n",
        "  separation_false_above=np.sum((y_hat==False)&(y_true==True)&(group==1))/np.sum((y_true==True)&(group==1))\n",
        "  separation_false_below=np.sum((y_hat==False)&(y_true==True)&(group==2))/np.sum((y_true==True)&(group==2))\n",
        "  separation_false=separation_false_above/separation_false_below\n",
        "  return separation_true,separation_false"
      ],
      "metadata": {
        "id": "FL0CISNEH_YL"
      },
      "execution_count": 163,
      "outputs": []
    },
    {
      "cell_type": "markdown",
      "source": [
        "**Definition 3: Sufficiency**\n",
        "\n",
        "*We say the random variables $(R, A, Y)$ satisfy sufficiency if $Y\\perp A | R$*\n",
        "\n",
        "In a binary case where $Y \\in \\{0, 1\\}$, a random variable $R$ is sufficient for $A$ if and only if for all groups, $a,b$ and all values $r$ in the support of $R$, we have\n",
        "\n",
        "$\\text{sufficiency} = \\frac{P\\{Y = 1 | R = r, A = a\\}}{P\\{Y = 1 | R = r, A = b\\}}$\n",
        "\n",
        "When we replace $R$ by a binary predictor $\\hat{Y}$, we recognize this condition as requiring a positive/negative predictive values across all groups."
      ],
      "metadata": {
        "id": "c5F71Ah7ILCQ"
      }
    },
    {
      "cell_type": "code",
      "source": [
        "def sufficiency(y_hat, y_true, group):\n",
        "  \"\"\"\n",
        "  Computes a sufficiency metric between two specific groups.\n",
        "\n",
        "  Args:\n",
        "    y_hat  (np.ndarray): Classifier predictions.\n",
        "    y_true (np.ndarray): Data labels.\n",
        "    group  (np.ndarray): Array of indices corresponding to group membership.\n",
        "      For this assignment, we will focus on comparing groups 1 and 2.\n",
        "      These correspond to the 'White alone' and 'Black or African American'\n",
        "      groups. Note that one can also compare different combinations of groups.\n",
        "\n",
        "  Returns:\n",
        "    float: sufficiency metric\n",
        "  \"\"\"\n",
        "  # TODO: compute sufficiency\n",
        "  sufficiency_above=np.sum((y_true==False)&(y_hat==False)&(group==1))/np.sum((y_hat==False)&(group==1))\n",
        "  sufficiency_below=np.sum((y_true==False)&(y_hat==False)&(group==2))/np.sum((y_hat==False)&(group==2))\n",
        "  sufficiency=sufficiency_above/sufficiency_below\n",
        "  return sufficiency"
      ],
      "metadata": {
        "id": "nQNUFg61IOpQ"
      },
      "execution_count": 164,
      "outputs": []
    },
    {
      "cell_type": "markdown",
      "source": [
        "Here let's define an evaluation function based on our three implementations of fairness measurement!"
      ],
      "metadata": {
        "id": "tchzP_qhH68W"
      }
    },
    {
      "cell_type": "code",
      "source": [
        "def eval(yhat, y_test, group_test, model_title):\n",
        "  print(\"Results from the \" + model_title + \" model: \")\n",
        "  print(\"the indepence of prediction and group is \", independence(yhat, group_test))\n",
        "  true_s, false_s = separation(yhat, y_test, group_test)\n",
        "  print(\"the true positive separation is \", true_s)\n",
        "  print(\"the false positive separation is \", false_s)\n",
        "  print(\"the sufficiency of the prediction and the group is\", sufficiency(yhat, y_test, group_test))"
      ],
      "metadata": {
        "id": "XyZD-rPOIcQ3"
      },
      "execution_count": 165,
      "outputs": []
    },
    {
      "cell_type": "markdown",
      "source": [
        "Please feel free to use the following dummy data and predictions to unit test your own implementation. We encourage that you grab a pen and verify with simple calculation that this makes sense!\n",
        "\n",
        "The expected results:\n",
        "\n",
        "```\n",
        "Results from unit-testing model:\n",
        "the indepence of prediction and group is  0.6666666666666667\n",
        "the true positive separation is  0.75\n",
        "the false positive separation is  0.6666666666666666\n",
        "the sufficiency of the prediction and the group is 0.75\n",
        "```"
      ],
      "metadata": {
        "id": "1ZJp6onEcwQt"
      }
    },
    {
      "cell_type": "code",
      "source": [
        "yhat_example       = np.asarray([True, True, False, False,  True, False, False, False,  True, True])\n",
        "y_test_example     = np.asarray([True, True, True,  False, False, False, False,  True, False, True])\n",
        "group_test_example = np.asarray([   1,    1,    1,      1,     1,     2,     2,     2,     2,    2])\n",
        "\n",
        "eval(yhat_example, y_test_example, group_test_example, \"unit-testing\")"
      ],
      "metadata": {
        "id": "odfPPyGrcxve",
        "colab": {
          "base_uri": "https://localhost:8080/",
          "height": 0
        },
        "outputId": "76bb0583-2f04-4505-e014-a9f9dd780b32"
      },
      "execution_count": 166,
      "outputs": [
        {
          "output_type": "stream",
          "name": "stdout",
          "text": [
            "Results from the unit-testing model: \n",
            "the indepence of prediction and group is  0.6666666666666667\n",
            "the true positive separation is  0.75\n",
            "the false positive separation is  0.6666666666666666\n",
            "the sufficiency of the prediction and the group is 0.75\n"
          ]
        }
      ]
    },
    {
      "cell_type": "markdown",
      "source": [
        "#### The Full Workflow"
      ],
      "metadata": {
        "id": "OhRLRCt2NFRE"
      }
    },
    {
      "cell_type": "markdown",
      "source": [
        "Here, let's connect the whole pipeline with training and see how fair our model is!\n",
        "\n",
        "You will\n",
        "1. Do a train_test_split on the dataset on a 80-20 ratio with a `random_state = 0`\n",
        "2. Train your Linear Regression Model\n",
        "3. Use the trained model to make prediction on the test dataset\n",
        "4. Evalute the model with fairness measurements."
      ],
      "metadata": {
        "id": "Wg1shu3RI7lj"
      }
    },
    {
      "cell_type": "code",
      "source": [
        "# split the data into training and testing sets\n",
        "X_train, X_test, y_train, y_test, group_train, group_test = train_test_split(\n",
        "    features, label, group, test_size=0.2, random_state=0)\n",
        "model = train(X_train, y_train)\n",
        "yhat = model.predict(X_test)\n",
        "\n",
        "eval(yhat, y_test, group_test, \"baseline\")"
      ],
      "metadata": {
        "id": "Y-kM9pF2I_y1",
        "colab": {
          "base_uri": "https://localhost:8080/",
          "height": 0
        },
        "outputId": "f5609f2d-e8f2-4b0b-f75b-db7d0a77c813"
      },
      "execution_count": 167,
      "outputs": [
        {
          "output_type": "stream",
          "name": "stdout",
          "text": [
            "Results from the baseline model: \n",
            "the indepence of prediction and group is  1.1340215172681893\n",
            "the true positive separation is  1.0270629991126885\n",
            "the false positive separation is  1.1547843098410184\n",
            "the sufficiency of the prediction and the group is 1.2359069407697714\n"
          ]
        }
      ]
    },
    {
      "cell_type": "markdown",
      "source": [
        "### Interpretation\n",
        "\n",
        "**Question**: Please interpret the values for each fairness measurements for the model's prediction in the context of public healthcare coverage (4-6 sentences).\n"
      ],
      "metadata": {
        "id": "benYKtm4Vu1B"
      }
    },
    {
      "cell_type": "markdown",
      "source": [
        "**Solution**\n",
        "With the indepence value of prediction and group of 1.134, this suggests that the model's predictions are not significantly influenced by the demographic characteristics, such as race or ethnicity, which is desirable in ensuring equitable treatment across diverse populations. Also, the true positive separation is 1.027, which indicates minimal disparity, suggesting that the model performs well in correctly identifying individuals with positive outcomes across different demographic groups. In the context of public healthcare coverage, this indicates relatively consistent performance in correctly identifying individuals who require healthcare coverage or interventions, regardless of their race or ethnicity. Furthermoe, the false positive separation is 1.155, a value slightly above 1, implying a slight disparity, which shows that certain demographic groups may be more prone to being falsely identified as needing healthcare coverage. Finally, the sufficiency of the prediction and the group is 1.236, implying that the model adequately considers the demographic characteristics in its predictions, which ensures that individuals from different demographic groups receive appropriate healthcare coverage or interventions tailored to their specific needs.\n",
        "\n",
        "(检查）\n"
      ],
      "metadata": {
        "id": "ZISddIAfrpTN"
      }
    },
    {
      "cell_type": "markdown",
      "source": [
        "**Question:** Predictions for public healthcare coverage are often used to inform government resource allocations and policy decisions in providing health services.\n",
        "\n",
        "In this scenario, explain what would be considered a \"fair\" outcome form the model's prediction. Based on the the measurement values from above, would you consider your model to meet your fairness requirement? (5-8 sentences)"
      ],
      "metadata": {
        "id": "a9zrNso9vJ2e"
      }
    },
    {
      "cell_type": "markdown",
      "source": [
        "**Solution**\n",
        "\n",
        "\n",
        "From my perspectives, I think that a \"fair\" outcome from the model's prediction should entail equitable distribution of resources and interventions to demographic groups. This includes that to make sure that individuals receive the most accurate healthcare coverage based on their needs without consideration of race or ethnicity. Therefore, we should expect that the tranied model should not predict systematically favor or disadvantage any particular demographic group and can accurately indetify the real needs of individuals. Based on the measurement values from above, I think that the model meet the overall fairness requirements because the Independence of Prediction and Group value indicates a relatively low level of influence of demographic characteristics on the model's predictions and the True Positive Separation value indicates minimal disparity in correctly identifying individuals with positive outcomes to different demographic groups. Furthermore, the slightly higher False Positive Separation value suggests that a slight disparity in incorrectly identifying individuals as needing healthcare coverage. Therefore, ongoing monitoring and refinement may be necessary to address any remaining disparities and ensure truly equitable resource allocations and policy decisions.\n",
        "\n",
        "\n",
        "(检查）\n"
      ],
      "metadata": {
        "id": "Zh7gnL9P20S2"
      }
    },
    {
      "cell_type": "markdown",
      "source": [
        "#### Sufficiency and Model Performance\n",
        "\n",
        "We now explore the correlation between sufficiency and model performance by constructing three different logistic regression models of varying accuracy (low / medium / high). Then we observe the sufficiency scores for each model."
      ],
      "metadata": {
        "id": "fGtsWv7OsEUs"
      }
    },
    {
      "cell_type": "markdown",
      "source": [
        "Fill in the following three functions to train three versions of `LogisticRegression` models. They should look similar to the `train()` function. Each model will be trained slightly differently:\n",
        "\n",
        "\n",
        "1.   Train this model without a bias term in the weights. Check the [sklearn docs](https://scikit-learn.org/stable/modules/generated/sklearn.linear_model.LogisticRegression.html) for how to do this. This model should achieve the worse performance of the three.\n",
        "2.   Train this model like normal on only the first 5000 elements of the dataset.\n",
        "3.   Train this model like normal, using the entire training dataset. This model should achieve the best performance of the three."
      ],
      "metadata": {
        "id": "KJYLNH-RXDP1"
      }
    },
    {
      "cell_type": "code",
      "source": [
        "def fit_model_1(X_train, y_train):\n",
        "  \"\"\"\n",
        "  Defines and trains a logistic regression model on the training data.\n",
        "\n",
        "  This classifier should be constrained to not include a bias/intercept.\n",
        "  Once again, the docs may be useful\n",
        "  https://scikit-learn.org/stable/modules/generated/sklearn.linear_model.LogisticRegression.html\n",
        "\n",
        "  Args:\n",
        "    X_train (np.ndarray): Training inputs.\n",
        "    y_train (np.ndarray): Training labels.\n",
        "\n",
        "  Returns:\n",
        "    sklearn.pipeline.Pipeline: trained model\n",
        "  \"\"\"\n",
        "\n",
        "  # TODO: train model\n",
        "  scaler = StandardScaler()\n",
        "  clf=LogisticRegression(fit_intercept=False)\n",
        "  model=make_pipeline(scaler,clf)\n",
        "  model.fit(X_train,y_train)\n",
        "  return model"
      ],
      "metadata": {
        "id": "hf4WbZeAXLPi"
      },
      "execution_count": 168,
      "outputs": []
    },
    {
      "cell_type": "code",
      "source": [
        "def fit_model_2(X_train, y_train):\n",
        "  \"\"\"\n",
        "  Defines and trains a logistic regression model on the training data.\n",
        "\n",
        "  This classifier should only be trained on the first 5000 datapoints.\n",
        "\n",
        "  Args:\n",
        "    X_train (np.ndarray): Training inputs.\n",
        "    y_train (np.ndarray): Training labels.\n",
        "\n",
        "  Returns:\n",
        "    sklearn.pipeline.Pipeline: trained model\n",
        "  \"\"\"\n",
        "\n",
        "  # TODO: train model\n",
        "  X_train_subset = X_train[:5000]\n",
        "  y_train_subset = y_train[:5000]\n",
        "  scaler = StandardScaler()\n",
        "  clf=LogisticRegression()\n",
        "  model=make_pipeline(scaler,clf)\n",
        "  model.fit(X_train_subset,y_train_subset)\n",
        "  return model"
      ],
      "metadata": {
        "id": "R5XP0jxuXM7_"
      },
      "execution_count": 169,
      "outputs": []
    },
    {
      "cell_type": "code",
      "source": [
        "def fit_model_3(X_train, y_train):\n",
        "  \"\"\"\n",
        "  Defines and trains a logistic regression model on the training data.\n",
        "\n",
        "  Args:\n",
        "    X_train (np.ndarray): Training inputs.\n",
        "    y_train (np.ndarray): Training labels.\n",
        "\n",
        "  Returns:\n",
        "    sklearn.pipeline.Pipeline: trained model\n",
        "  \"\"\"\n",
        "  # TODO: train model\n",
        "  scaler = StandardScaler()\n",
        "  clf=LogisticRegression()\n",
        "  model=make_pipeline(scaler,clf)\n",
        "  model.fit(X_train,y_train)\n",
        "  return model"
      ],
      "metadata": {
        "id": "GfRF3-xvXO_h"
      },
      "execution_count": 170,
      "outputs": []
    },
    {
      "cell_type": "code",
      "source": [
        "# Fit models\n",
        "model_1 = fit_model_1(X_train, y_train)\n",
        "model_2 = fit_model_2(X_train, y_train)\n",
        "model_3 = fit_model_3(X_train, y_train)\n",
        "\n",
        "# Prediction of models\n",
        "yhat_1 = model_1.predict(X_test)\n",
        "yhat_2 = model_2.predict(X_test)\n",
        "yhat_3 = model_3.predict(X_test)\n",
        "\n",
        "# Accuracy of models\n",
        "accuracy_1 = np.mean(y_test[yhat_1])\n",
        "accuracy_2 = np.mean(y_test[yhat_2])\n",
        "accuracy_3 = np.mean(y_test[yhat_3])\n",
        "\n",
        "print(f\"Model 1:\\n  Accuracy: {accuracy_1:.3f}\\n  Sufficiency: {sufficiency(yhat_1, y_test, group_test):.3f}\")\n",
        "print(f\"Model 2:\\n  Accuracy: {accuracy_2:.3f}\\n  Sufficiency: {sufficiency(yhat_2, y_test, group_test):.3f}\")\n",
        "print(f\"Model 3:\\n  Accuracy: {accuracy_3:.3f}\\n  Sufficiency: {sufficiency(yhat_3, y_test, group_test):.3f}\")"
      ],
      "metadata": {
        "id": "aOUfWl1oXWNO",
        "colab": {
          "base_uri": "https://localhost:8080/",
          "height": 0
        },
        "outputId": "f6d8c922-ee1c-4a7e-9058-493df7371dbc"
      },
      "execution_count": 171,
      "outputs": [
        {
          "output_type": "stream",
          "name": "stdout",
          "text": [
            "Model 1:\n",
            "  Accuracy: 0.535\n",
            "  Sufficiency: 1.123\n",
            "Model 2:\n",
            "  Accuracy: 0.650\n",
            "  Sufficiency: 1.233\n",
            "Model 3:\n",
            "  Accuracy: 0.666\n",
            "  Sufficiency: 1.236\n"
          ]
        }
      ]
    },
    {
      "cell_type": "markdown",
      "source": [
        "\n",
        "**Question:** What correlation between accuracy and sufficiency do you observe? What are the implications of such a correlation in the context of standard machine learning practices? Why might imposing sufficiency as a constraint be helpful or not? (4-6 sentences)"
      ],
      "metadata": {
        "id": "gQoq3xPiXbSb"
      }
    },
    {
      "cell_type": "markdown",
      "source": [
        "**Solution**\n",
        "\n",
        "From the above data, we can see that there exists a positive correlation between accuracy and sufficiency because as the accuracy increases, the sufficiency has a tendency to augment. Considering this correlation in the context of standard machine learing practices, I think that this correlation implies that models achieving higher accuracy are more effective at incorporating demographic characteristics into their predictions. But we need also to notice that while higher sufficiency scores indicate better fairness in predictions, these values do not guarantee equitable outcomes, especially if the model is biased or trained on biased data. I think that imposing sufficiency as a constraint is helpful in ensuring that predictive models consider demographic characteristics and mitigate biases, which helps practitioners to prioritize fairness and equity in predictive modeling. However, we can balance sufficiency with other performance metrics and interpretability requirements to develop better models with better fairness and accuracy.\n",
        "\n",
        "(检查）"
      ],
      "metadata": {
        "id": "TjbbslGLrwW7"
      }
    },
    {
      "cell_type": "markdown",
      "metadata": {
        "id": "VyY3T1UVU-VK"
      },
      "source": [
        "## Section 2a (continued): Fairness Metrics Continued\n",
        "\n",
        "*Because we will be using these metrics in the next assignment, we also introduce the following fairness metrics which are commonly used.*\n"
      ]
    },
    {
      "cell_type": "markdown",
      "metadata": {
        "id": "I3fbFrHthccf"
      },
      "source": [
        "#### Statistical Parity Difference\n",
        "Statistical Parity Difference (SPD) measures the difference that the majority and protected classes receive a favorable outcome. This measure must be equal to 0 to be fair.\n",
        "\n",
        "SPD is measured by the following equation:\n",
        "\n",
        "$$\\text{SPD} = P(\\hat{Y}=1 | A = \\text{minority}) - P(\\hat{Y}=1 | A = \\text{majority}).$$"
      ]
    },
    {
      "cell_type": "code",
      "source": [
        "def spd(sensitive_attribute, dataset, predicted_labels, majority_class, minority_class):\n",
        "    \"\"\"\n",
        "    Calculate the Statistical Parity Difference (SPD) between majority and minority classes based on predicted labels.\n",
        "\n",
        "    Parameters:\n",
        "    - sensitive_attribute (str): Name of the column representing the sensitive attribute.\n",
        "    - dataset (pd.DataFrame): The dataset containing the sensitive attribute and true outcome variable.\n",
        "    - predicted_labels (pd.Series): Predicted labels for the outcome variable.\n",
        "    - majority_class: Value representing the majority class in the sensitive attribute.\n",
        "    - minority_class: Value representing the minority class in the sensitive attribute.\n",
        "\n",
        "    Returns:\n",
        "    - spd (float): Statistical Parity Difference between majority and minority classes.\n",
        "    \"\"\"\n",
        "    # TODO: Compute the spd value\n",
        "    major_indic=dataset[sensitive_attribute]==majority_class\n",
        "    minor_indic=dataset[sensitive_attribute]==minority_class\n",
        "    p_left=np.sum((predicted_labels[minor_indic]==False))/np.sum(dataset[sensitive_attribute]==minority_class)\n",
        "    p_right=np.sum((predicted_labels[major_indic]==False))/np.sum(dataset[sensitive_attribute]==majority_class)\n",
        "    spd_val=p_left-p_right\n",
        "    return spd_val"
      ],
      "metadata": {
        "id": "L__Yyq6Fstkl"
      },
      "execution_count": 172,
      "outputs": []
    },
    {
      "cell_type": "markdown",
      "metadata": {
        "id": "BWyp6rKYhZRf"
      },
      "source": [
        "#### Disparate Impact\n",
        "Disparate Impact (DI) compares the proportion of individuals that receive a favorable outcome for two groups, a majority group and a minority group.\n",
        "\n",
        "Disparate impact is measured by the following equation:\n",
        "\n",
        "$$\\text{DI} = \\frac{P(\\hat{Y}=1 | A = \\text{minority})}{P(\\hat{Y}=1 | A = \\text{majority})}.$$"
      ]
    },
    {
      "cell_type": "code",
      "source": [
        "def di(sensitive_attribute, dataset, predicted_labels, majority_class, minority_class):\n",
        "    \"\"\"\n",
        "    Calculate the Disparate Impact (DI) between majority and minority classes based on predicted labels.\n",
        "\n",
        "    Parameters:\n",
        "    - sensitive_attribute (str): Name of the column representing the sensitive attribute.\n",
        "    - dataset (pd.DataFrame): The dataset containing the sensitive attribute and true outcome variable.\n",
        "    - predicted_labels (pd.Series): Predicted labels for the outcome variable.\n",
        "    - majority_class: Value representing the majority class in the sensitive attribute.\n",
        "    - minority_class: Value representing the minority class in the sensitive attribute.\n",
        "\n",
        "    Returns:\n",
        "    - di (float): Disparate Impact between majority and minority classes.\n",
        "    \"\"\"\n",
        "    # TODO: Compute the DI value\n",
        "    major_indic=dataset[sensitive_attribute]==majority_class\n",
        "    minor_indic=dataset[sensitive_attribute]==minority_class\n",
        "    p_above=np.sum((predicted_labels[minor_indic]==False))/np.sum(dataset[sensitive_attribute]==minority_class)\n",
        "    p_below=np.sum((predicted_labels[major_indic]==False))/np.sum(dataset[sensitive_attribute]==majority_class)\n",
        "    di_val=p_above/p_below\n",
        "    return di_val"
      ],
      "metadata": {
        "id": "JIB937Rpug3N"
      },
      "execution_count": 173,
      "outputs": []
    },
    {
      "cell_type": "markdown",
      "metadata": {
        "id": "XZ0TiNSqlmTB"
      },
      "source": [
        "#### Equal Opportunity Difference\n",
        "\n",
        "Equal Opportunity Difference (EOD) measures the deviation from the equality of opportunity, which means that the same proportion of each population receives the favorable outcome.\n",
        "\n",
        "EOD is measured by the following equation:\n",
        "\n",
        "$$\\text{EOD} = P(\\hat{Y}=1 | A = \\text{minority}, Y=1) - P(\\hat{Y}=1 | A = \\text{majority}, Y=1).$$"
      ]
    },
    {
      "cell_type": "code",
      "source": [
        "def eod(sensitive_attribute, predictions, dataset, true_labels, majority_class, minority_class):\n",
        "    \"\"\"\n",
        "    Calculate the Equal Opportunity Difference (EOD) measure.\n",
        "\n",
        "    Parameters:\n",
        "    - sensitive_attribute: The column name of the sensitive attribute in the dataset.\n",
        "    - predictions: Predictions made by the model.\n",
        "    - dataset: The dataset containing the sensitive attribute and the outcome variable.\n",
        "    - outcome_variable: The column name of the outcome variable in the dataset.\n",
        "    - majority_class: The majority class label.\n",
        "    - minority_class: The minority class label.\n",
        "\n",
        "    Returns:\n",
        "    - eod_value: The Equal Opportunity Difference measure.\n",
        "    \"\"\"\n",
        "    # TODO: Compute the eod value\n",
        "    major_indic=dataset[sensitive_attribute]==majority_class\n",
        "    minor_indic=dataset[sensitive_attribute]==minority_class\n",
        "    p_left=np.sum((true_labels[minor_indic]==False)&(predictions[minor_indic]==False))/np.sum(true_labels[minor_indic]==False)\n",
        "    p_right=np.sum((true_labels[major_indic]==False)&(predictions[major_indic]==False))/np.sum(true_labels[major_indic]==False)\n",
        "    eod_value=p_left-p_right\n",
        "    return eod_value"
      ],
      "metadata": {
        "id": "vEuRut-5QN3s"
      },
      "execution_count": 174,
      "outputs": []
    },
    {
      "cell_type": "markdown",
      "metadata": {
        "id": "vC6vcspUiNlY"
      },
      "source": [
        "#### Average Absolute Odds Difference\n",
        "\n",
        "Average Absolute Odds Difference (AAOD) measures bias by using the false positive rate and true positive rate.\n",
        "\n",
        "AAOD is measured by the following equation:\n",
        "\n",
        "$$\\text{AAOD} = \\frac{1}{2}\\left[|FPR_{A=\\text{minority}} - FPR_{A=\\text{majority}}| + |TPR_{A=\\text{minority}} - TPR_{A=\\text{majority}}|\\right].$$\n",
        "\n",
        "Here, FPR and TPR refers to the false positive rate and true positive rate respectively.\n",
        "\n",
        "The following equations define FPR and TPR:\n",
        "$$FPR = \\frac{FP}{FP + TN}$$\n",
        "$$TPR = \\frac{TP}{TP + FN}$$\n",
        "where TP, FP, TN, and FN are the number of true positives, false positives, true negatives, and false negatives respectively."
      ]
    },
    {
      "cell_type": "code",
      "source": [
        "def aaod(sensitive_attribute, predictions, dataset, true_labels, majority_class, minority_class):\n",
        "    \"\"\"\n",
        "    Calculate the Average Absolute Odds Difference (AAOD) to measure bias.\n",
        "\n",
        "    Parameters:\n",
        "    - sensitive_attribute (str): The name of the sensitive attribute in the dataset.\n",
        "    - predictions (pd.Series): The predicted values.\n",
        "    - dataset (pd.DataFrame): The dataset containing the sensitive attribute, predictions, and outcome variable.\n",
        "    - outcome_variable (str): The name of the outcome variable in the dataset.\n",
        "    - majority_class (int): The label of the majority class.\n",
        "    - minority_class (int): The label of the minority class.\n",
        "\n",
        "    Returns:\n",
        "    - float: The calculated Average Absolute Odds Difference (AAOD).\n",
        "    \"\"\"\n",
        "    # TODO: Compute the aaod value\n",
        "    major_indic = dataset[sensitive_attribute] == majority_class\n",
        "    minor_indic = dataset[sensitive_attribute] == minority_class\n",
        "    tp_majority = np.sum((predictions[major_indic] == True) & (true_labels[major_indic] == True))\n",
        "    fp_majority = np.sum((predictions[major_indic] == True) & (true_labels[major_indic] == False))\n",
        "    tn_majority = np.sum((predictions[major_indic] == False) & (true_labels[major_indic] == False))\n",
        "    fn_majority = np.sum((predictions[major_indic] == False) & (true_labels[major_indic] == True))\n",
        "    tp_minority = np.sum((predictions[minor_indic] == True) & (true_labels[minor_indic] == True))\n",
        "    fp_minority = np.sum((predictions[minor_indic] == True) & (true_labels[minor_indic] == False))\n",
        "    tn_minority = np.sum((predictions[minor_indic] == False) & (true_labels[minor_indic] == False))\n",
        "    fn_minority = np.sum((predictions[minor_indic] == False) & (true_labels[minor_indic] == True))\n",
        "    fpr_minority=fp_minority/(fp_minority+tn_minority)\n",
        "    tpr_minority=tp_minority/(tp_minority+fn_minority)\n",
        "    fpr_majority=fp_majority/(fp_majority+tn_majority)\n",
        "    tpr_majority=tp_majority/(tp_majority+fn_majority)\n",
        "    aaod_value=0.5*(np.abs(fpr_minority-fpr_majority)+np.abs(tpr_minority-tpr_majority))\n",
        "    return aaod_value"
      ],
      "metadata": {
        "id": "XqEiUkl4Qdds"
      },
      "execution_count": 175,
      "outputs": []
    },
    {
      "cell_type": "markdown",
      "source": [
        "**Question:** To analyze these fairness measures mathematically, please provide the range of values (i.e., the upper and lower bounds) for each metric above (Statistical Parity Difference, Disparate Impact, and Equal Opportunity Difference).\n",
        "\n",
        "Additionally, for the metric, specify the value when the model achieves \"perfect\" fairness. (3-5 sentences)\n",
        "\n"
      ],
      "metadata": {
        "id": "yyi3Qu6JxfrI"
      }
    },
    {
      "cell_type": "markdown",
      "source": [
        "**Solution**\n",
        "\n",
        "The range of value of Statistical Parity Difference is from -1 to 1 because the range of each probability is from 0 to 1.\n",
        "\n",
        "$$\\text{SPD}\\in [-1,1]$$\n",
        "\n",
        "The range of value of Disparate Impact is from 0 to $\\infty$ because the range of each probability is from 0 to 1, as the denominator teads to be 0, the value of Disparate Impact tends to $\\infty$.\n",
        "\n",
        "$$\\text{DI}\\in [0,\\infty)$$\n",
        "\n",
        "The range of value of Equal Opportunity Difference is from -1 to 1 because the range of each probability is from 0 to 1.\n",
        "\n",
        "$$\\text{EOD}\\in [-1,1]$$\n",
        "\n",
        "When it comes to \"perfect\" fairness, Statistical Parity Difference reaches perfect fairness at 0, Disparate Impact reaches perfect fairness at 1, and Equal Opportunity Difference reaches perfect fairness at 0.\n",
        "\n",
        "\n",
        "（检查）"
      ],
      "metadata": {
        "id": "Zh95ZG8wy0dq"
      }
    },
    {
      "cell_type": "markdown",
      "source": [
        "**Question:** Please describe  a scenario in which one fairness metric would be more suitable than another for assessing biases in algorithmic systems. You're welcome to reference real life applications to illustrate your point. (4-6 sentences)"
      ],
      "metadata": {
        "id": "-IijkQiYy54o"
      }
    },
    {
      "cell_type": "markdown",
      "source": [
        "**Solution**\n",
        "\n",
        "From my perspectives, I think that one scenario where Statistical Parity Difference (SPD) is more suitable than Equal Opportunity Difference (EOD) as a fairness metric when it comes to the admission decisions for educational programs. For example, considering a university's admissions process where the goal is to ensure fairness and equal opportunity for all applicants, regardless of their demographic characteristics. By calculating SPD, the university can directly measure the difference in admission rates between various demographic groups, such as gender or ethnicity. We can see that SPD allows the university to identify and address disparities in admission rates, which ensures that all qualified applicants have an equal chance of being admitted regardless of their demographic backgrounds. However, EOD would also be applied in this scenario to assess disparities in the true positive rates (admission rates) between different demographic groups. But, this is not directly address the university's goal of ensuring equal chances among the overall applicants rather than only admitted students.\n",
        "\n",
        "（检查）\n"
      ],
      "metadata": {
        "id": "jQTTN8xxy2xL"
      }
    },
    {
      "cell_type": "markdown",
      "source": [
        "**Question:**\n",
        "How does each of the fairness metric above relate to the measures of Independence, Separation, and Sufficiency? (2-4 sentences)"
      ],
      "metadata": {
        "id": "eaemdU1zy7ZD"
      }
    },
    {
      "cell_type": "markdown",
      "source": [
        "**Solution**\n",
        "\n",
        "For Statistical Parity Difference (SPD), it related to the measurses of Independence by assessing whether outcomes are independent of sensitive attributes, related to Separation by comparing the distribution of outcomes across different demographic groups, and not directly related to Sufficiency. For Disparate Impact (DI), I think it is related to Independence by evaluating the impact of protected attributes on decision outcomes, related to Separation by quantifying disparities in outcomes between different groups, and related to Sufficiency by assessing whether outcomes provide sufficient opportunities for all groups. For Equal Opportunity Difference (EOD), it is related to Separation by assessing whether decision outcomes are independent of sensitive attributes, but I don't think EOD is directly related to Independence and Sufficiency. Finally, for Average Absolute Odds Difference (AAOD), I think it is related to Separation by measuring disparities in false positive and true positive rates between different demographic groups, but it is unrelated to Independence and Sufficiency.\n",
        "\n",
        "（检查）"
      ],
      "metadata": {
        "id": "ddYH0b-Ly9SO"
      }
    },
    {
      "cell_type": "markdown",
      "source": [
        "# Section 3: Analyzing a particular mathematical notion of fairness\n",
        "\n",
        "In our exploration of fairness measures we've been considering how to evaluate the fairness of a binary classifier that produces a 0-1 output.\n",
        "\n",
        "In various exploratory data mining tasks the goal is to *cluster* a collection of objects into groups and determine whether the groups have some meaningful structure.\n",
        "\n",
        "Formally, we are given a set of $n$ points, where each point is represented by a $d$-dimensional feature vector $x \\in R^d$. We define the *distance* between two points as the Euclidean distance between them:\n",
        "\n",
        "$ d(x,y) = \\sqrt{\\sum_{i=1}^d (x_i - y_i)^2}$\n",
        "\n",
        "And then we define the $k$-means problem as:\n",
        "\n",
        "Partition the points into $k$ clusters $C_1, \\dots, C_k$ such that the sum of squared distance from each point to its cluster center is minimized, where the center of a cluster is defined as the centroid of the cluster:  \n",
        "$\\mu(C) = \\sum_{x \\in C} x/|C|$\n",
        "where $|C|$ is the number of points in the cluster. More precisely, the goal is to find $C_1, \\dots, C_k$ such that\n",
        "\n",
        "$\\sum_{j=1}^k \\sum_{x \\in C_j} d^2(x, \\mu(C_j))$ is minimized.\n",
        "\n",
        "Now consider a \"fair\" equivalent of this problem. Now each point $x$ also has a color $g(x)$. For any clustering we can write down the fraction of points within a cluster having a particular color.\n",
        "\n",
        "Then the goal is to make sure these fractional values for each cluster match the overall proportions of colors. For example, if we have 15 points of which 5 are red and 10 are blue, and we want to cluster them into 5 clusters, then in each cluster there should be 1 red and 2 blue points.\n",
        "\n",
        "Consider two scenarios in which one might wish to cluster points.\n",
        "\n",
        "1. Each point encodes different kinds of qualifications. The clusters represent people with similar qualifications. The \"color\" of a point is a gender encoding. The goal of the clustering is to group people into categories to target them with different kinds of job ads.\n",
        "\n",
        "2. Each point represents the location of a voter in a state. The clusters represent voting districts for a state assembly. The \"color\" of a point is the person's registered political affiliation (assume that there are two parties).\n",
        "\n",
        "**Question:** Assess the degree to which the fairness measure eliminates any form of bias that one might be concerned with in the scenarios described. (5-8 sentences)"
      ],
      "metadata": {
        "id": "jxcLDWbB54sC"
      }
    },
    {
      "cell_type": "markdown",
      "source": [
        "**Solution**\n",
        "\n",
        "\n",
        "\n",
        "\n",
        "\n",
        "\n",
        "\n",
        "\n",
        "\n",
        "\n",
        "(简答题）\n",
        "\n",
        "\n",
        "\n"
      ],
      "metadata": {
        "id": "TBpVkOW9r_4q"
      }
    },
    {
      "cell_type": "markdown",
      "source": [
        "# Section 4: Fairness Intervention Techniques"
      ],
      "metadata": {
        "id": "GQFzXdAJ58Sp"
      }
    },
    {
      "cell_type": "markdown",
      "metadata": {
        "id": "U-qq3SdgpkGI"
      },
      "source": [
        "## Section 4a: Credit Scoring Case Study\n",
        "\n",
        "\n"
      ]
    },
    {
      "cell_type": "markdown",
      "metadata": {
        "id": "MJapLkp4wliX"
      },
      "source": [
        "The goal of the credit scoring case study is to explore the fairness metrics defined above in regards with two sensitive attribtues: customer age and residential status. The credit data contains variables customer ID, customer age, time at current address, residential status, employment status, customer income, time with bank, other credit card, average monthly balance, utilization rate, and the default status.\n",
        "\n",
        "Inspired by https://research.google.com/bigpicture/attacking-discrimination-in-ml/\n",
        "\n",
        "Credit data is from http://archive.ics.uci.edu/dataset/144/statlog+german+credit+data"
      ]
    },
    {
      "cell_type": "code",
      "source": [
        "import pandas as pd\n",
        "\n",
        "!pip install --upgrade --no-cache-dir gdown --quiet\n",
        "\n",
        "!gdown --id 1QtIQZZZL1GMiSpHgFBiA7romdlVLcVbn\n",
        "\n",
        "df = pd.read_csv('german_credit_data.csv', index_col=[0])\n",
        "df.head()"
      ],
      "metadata": {
        "id": "UKxcJirF4ns4",
        "colab": {
          "base_uri": "https://localhost:8080/",
          "height": 333
        },
        "outputId": "43c6b655-be97-4760-9b13-f0725fc70a91"
      },
      "execution_count": 176,
      "outputs": [
        {
          "output_type": "stream",
          "name": "stdout",
          "text": [
            "/usr/local/lib/python3.10/dist-packages/gdown/__main__.py:132: FutureWarning: Option `--id` was deprecated in version 4.3.1 and will be removed in 5.0. You don't need to pass it anymore to use a file ID.\n",
            "  warnings.warn(\n",
            "Downloading...\n",
            "From: https://drive.google.com/uc?id=1QtIQZZZL1GMiSpHgFBiA7romdlVLcVbn\n",
            "To: /content/german_credit_data.csv\n",
            "100% 49.7k/49.7k [00:00<00:00, 57.8MB/s]\n"
          ]
        },
        {
          "output_type": "execute_result",
          "data": {
            "text/plain": [
              "   Age     Sex  Job Housing Saving accounts Checking account  Credit amount  \\\n",
              "0   67    male    2     own             NaN           little           1169   \n",
              "1   22  female    2     own          little         moderate           5951   \n",
              "2   49    male    1     own          little              NaN           2096   \n",
              "3   45    male    2    free          little           little           7882   \n",
              "4   53    male    2    free          little           little           4870   \n",
              "\n",
              "   Duration              Purpose  \n",
              "0         6             radio/TV  \n",
              "1        48             radio/TV  \n",
              "2        12            education  \n",
              "3        42  furniture/equipment  \n",
              "4        24                  car  "
            ],
            "text/html": [
              "\n",
              "  <div id=\"df-a89b0294-52eb-4db2-82ad-ee5530f53dec\" class=\"colab-df-container\">\n",
              "    <div>\n",
              "<style scoped>\n",
              "    .dataframe tbody tr th:only-of-type {\n",
              "        vertical-align: middle;\n",
              "    }\n",
              "\n",
              "    .dataframe tbody tr th {\n",
              "        vertical-align: top;\n",
              "    }\n",
              "\n",
              "    .dataframe thead th {\n",
              "        text-align: right;\n",
              "    }\n",
              "</style>\n",
              "<table border=\"1\" class=\"dataframe\">\n",
              "  <thead>\n",
              "    <tr style=\"text-align: right;\">\n",
              "      <th></th>\n",
              "      <th>Age</th>\n",
              "      <th>Sex</th>\n",
              "      <th>Job</th>\n",
              "      <th>Housing</th>\n",
              "      <th>Saving accounts</th>\n",
              "      <th>Checking account</th>\n",
              "      <th>Credit amount</th>\n",
              "      <th>Duration</th>\n",
              "      <th>Purpose</th>\n",
              "    </tr>\n",
              "  </thead>\n",
              "  <tbody>\n",
              "    <tr>\n",
              "      <th>0</th>\n",
              "      <td>67</td>\n",
              "      <td>male</td>\n",
              "      <td>2</td>\n",
              "      <td>own</td>\n",
              "      <td>NaN</td>\n",
              "      <td>little</td>\n",
              "      <td>1169</td>\n",
              "      <td>6</td>\n",
              "      <td>radio/TV</td>\n",
              "    </tr>\n",
              "    <tr>\n",
              "      <th>1</th>\n",
              "      <td>22</td>\n",
              "      <td>female</td>\n",
              "      <td>2</td>\n",
              "      <td>own</td>\n",
              "      <td>little</td>\n",
              "      <td>moderate</td>\n",
              "      <td>5951</td>\n",
              "      <td>48</td>\n",
              "      <td>radio/TV</td>\n",
              "    </tr>\n",
              "    <tr>\n",
              "      <th>2</th>\n",
              "      <td>49</td>\n",
              "      <td>male</td>\n",
              "      <td>1</td>\n",
              "      <td>own</td>\n",
              "      <td>little</td>\n",
              "      <td>NaN</td>\n",
              "      <td>2096</td>\n",
              "      <td>12</td>\n",
              "      <td>education</td>\n",
              "    </tr>\n",
              "    <tr>\n",
              "      <th>3</th>\n",
              "      <td>45</td>\n",
              "      <td>male</td>\n",
              "      <td>2</td>\n",
              "      <td>free</td>\n",
              "      <td>little</td>\n",
              "      <td>little</td>\n",
              "      <td>7882</td>\n",
              "      <td>42</td>\n",
              "      <td>furniture/equipment</td>\n",
              "    </tr>\n",
              "    <tr>\n",
              "      <th>4</th>\n",
              "      <td>53</td>\n",
              "      <td>male</td>\n",
              "      <td>2</td>\n",
              "      <td>free</td>\n",
              "      <td>little</td>\n",
              "      <td>little</td>\n",
              "      <td>4870</td>\n",
              "      <td>24</td>\n",
              "      <td>car</td>\n",
              "    </tr>\n",
              "  </tbody>\n",
              "</table>\n",
              "</div>\n",
              "    <div class=\"colab-df-buttons\">\n",
              "\n",
              "  <div class=\"colab-df-container\">\n",
              "    <button class=\"colab-df-convert\" onclick=\"convertToInteractive('df-a89b0294-52eb-4db2-82ad-ee5530f53dec')\"\n",
              "            title=\"Convert this dataframe to an interactive table.\"\n",
              "            style=\"display:none;\">\n",
              "\n",
              "  <svg xmlns=\"http://www.w3.org/2000/svg\" height=\"24px\" viewBox=\"0 -960 960 960\">\n",
              "    <path d=\"M120-120v-720h720v720H120Zm60-500h600v-160H180v160Zm220 220h160v-160H400v160Zm0 220h160v-160H400v160ZM180-400h160v-160H180v160Zm440 0h160v-160H620v160ZM180-180h160v-160H180v160Zm440 0h160v-160H620v160Z\"/>\n",
              "  </svg>\n",
              "    </button>\n",
              "\n",
              "  <style>\n",
              "    .colab-df-container {\n",
              "      display:flex;\n",
              "      gap: 12px;\n",
              "    }\n",
              "\n",
              "    .colab-df-convert {\n",
              "      background-color: #E8F0FE;\n",
              "      border: none;\n",
              "      border-radius: 50%;\n",
              "      cursor: pointer;\n",
              "      display: none;\n",
              "      fill: #1967D2;\n",
              "      height: 32px;\n",
              "      padding: 0 0 0 0;\n",
              "      width: 32px;\n",
              "    }\n",
              "\n",
              "    .colab-df-convert:hover {\n",
              "      background-color: #E2EBFA;\n",
              "      box-shadow: 0px 1px 2px rgba(60, 64, 67, 0.3), 0px 1px 3px 1px rgba(60, 64, 67, 0.15);\n",
              "      fill: #174EA6;\n",
              "    }\n",
              "\n",
              "    .colab-df-buttons div {\n",
              "      margin-bottom: 4px;\n",
              "    }\n",
              "\n",
              "    [theme=dark] .colab-df-convert {\n",
              "      background-color: #3B4455;\n",
              "      fill: #D2E3FC;\n",
              "    }\n",
              "\n",
              "    [theme=dark] .colab-df-convert:hover {\n",
              "      background-color: #434B5C;\n",
              "      box-shadow: 0px 1px 3px 1px rgba(0, 0, 0, 0.15);\n",
              "      filter: drop-shadow(0px 1px 2px rgba(0, 0, 0, 0.3));\n",
              "      fill: #FFFFFF;\n",
              "    }\n",
              "  </style>\n",
              "\n",
              "    <script>\n",
              "      const buttonEl =\n",
              "        document.querySelector('#df-a89b0294-52eb-4db2-82ad-ee5530f53dec button.colab-df-convert');\n",
              "      buttonEl.style.display =\n",
              "        google.colab.kernel.accessAllowed ? 'block' : 'none';\n",
              "\n",
              "      async function convertToInteractive(key) {\n",
              "        const element = document.querySelector('#df-a89b0294-52eb-4db2-82ad-ee5530f53dec');\n",
              "        const dataTable =\n",
              "          await google.colab.kernel.invokeFunction('convertToInteractive',\n",
              "                                                    [key], {});\n",
              "        if (!dataTable) return;\n",
              "\n",
              "        const docLinkHtml = 'Like what you see? Visit the ' +\n",
              "          '<a target=\"_blank\" href=https://colab.research.google.com/notebooks/data_table.ipynb>data table notebook</a>'\n",
              "          + ' to learn more about interactive tables.';\n",
              "        element.innerHTML = '';\n",
              "        dataTable['output_type'] = 'display_data';\n",
              "        await google.colab.output.renderOutput(dataTable, element);\n",
              "        const docLink = document.createElement('div');\n",
              "        docLink.innerHTML = docLinkHtml;\n",
              "        element.appendChild(docLink);\n",
              "      }\n",
              "    </script>\n",
              "  </div>\n",
              "\n",
              "\n",
              "<div id=\"df-6dc3306b-046b-4f78-9e5b-4b52ff1ec67c\">\n",
              "  <button class=\"colab-df-quickchart\" onclick=\"quickchart('df-6dc3306b-046b-4f78-9e5b-4b52ff1ec67c')\"\n",
              "            title=\"Suggest charts\"\n",
              "            style=\"display:none;\">\n",
              "\n",
              "<svg xmlns=\"http://www.w3.org/2000/svg\" height=\"24px\"viewBox=\"0 0 24 24\"\n",
              "     width=\"24px\">\n",
              "    <g>\n",
              "        <path d=\"M19 3H5c-1.1 0-2 .9-2 2v14c0 1.1.9 2 2 2h14c1.1 0 2-.9 2-2V5c0-1.1-.9-2-2-2zM9 17H7v-7h2v7zm4 0h-2V7h2v10zm4 0h-2v-4h2v4z\"/>\n",
              "    </g>\n",
              "</svg>\n",
              "  </button>\n",
              "\n",
              "<style>\n",
              "  .colab-df-quickchart {\n",
              "      --bg-color: #E8F0FE;\n",
              "      --fill-color: #1967D2;\n",
              "      --hover-bg-color: #E2EBFA;\n",
              "      --hover-fill-color: #174EA6;\n",
              "      --disabled-fill-color: #AAA;\n",
              "      --disabled-bg-color: #DDD;\n",
              "  }\n",
              "\n",
              "  [theme=dark] .colab-df-quickchart {\n",
              "      --bg-color: #3B4455;\n",
              "      --fill-color: #D2E3FC;\n",
              "      --hover-bg-color: #434B5C;\n",
              "      --hover-fill-color: #FFFFFF;\n",
              "      --disabled-bg-color: #3B4455;\n",
              "      --disabled-fill-color: #666;\n",
              "  }\n",
              "\n",
              "  .colab-df-quickchart {\n",
              "    background-color: var(--bg-color);\n",
              "    border: none;\n",
              "    border-radius: 50%;\n",
              "    cursor: pointer;\n",
              "    display: none;\n",
              "    fill: var(--fill-color);\n",
              "    height: 32px;\n",
              "    padding: 0;\n",
              "    width: 32px;\n",
              "  }\n",
              "\n",
              "  .colab-df-quickchart:hover {\n",
              "    background-color: var(--hover-bg-color);\n",
              "    box-shadow: 0 1px 2px rgba(60, 64, 67, 0.3), 0 1px 3px 1px rgba(60, 64, 67, 0.15);\n",
              "    fill: var(--button-hover-fill-color);\n",
              "  }\n",
              "\n",
              "  .colab-df-quickchart-complete:disabled,\n",
              "  .colab-df-quickchart-complete:disabled:hover {\n",
              "    background-color: var(--disabled-bg-color);\n",
              "    fill: var(--disabled-fill-color);\n",
              "    box-shadow: none;\n",
              "  }\n",
              "\n",
              "  .colab-df-spinner {\n",
              "    border: 2px solid var(--fill-color);\n",
              "    border-color: transparent;\n",
              "    border-bottom-color: var(--fill-color);\n",
              "    animation:\n",
              "      spin 1s steps(1) infinite;\n",
              "  }\n",
              "\n",
              "  @keyframes spin {\n",
              "    0% {\n",
              "      border-color: transparent;\n",
              "      border-bottom-color: var(--fill-color);\n",
              "      border-left-color: var(--fill-color);\n",
              "    }\n",
              "    20% {\n",
              "      border-color: transparent;\n",
              "      border-left-color: var(--fill-color);\n",
              "      border-top-color: var(--fill-color);\n",
              "    }\n",
              "    30% {\n",
              "      border-color: transparent;\n",
              "      border-left-color: var(--fill-color);\n",
              "      border-top-color: var(--fill-color);\n",
              "      border-right-color: var(--fill-color);\n",
              "    }\n",
              "    40% {\n",
              "      border-color: transparent;\n",
              "      border-right-color: var(--fill-color);\n",
              "      border-top-color: var(--fill-color);\n",
              "    }\n",
              "    60% {\n",
              "      border-color: transparent;\n",
              "      border-right-color: var(--fill-color);\n",
              "    }\n",
              "    80% {\n",
              "      border-color: transparent;\n",
              "      border-right-color: var(--fill-color);\n",
              "      border-bottom-color: var(--fill-color);\n",
              "    }\n",
              "    90% {\n",
              "      border-color: transparent;\n",
              "      border-bottom-color: var(--fill-color);\n",
              "    }\n",
              "  }\n",
              "</style>\n",
              "\n",
              "  <script>\n",
              "    async function quickchart(key) {\n",
              "      const quickchartButtonEl =\n",
              "        document.querySelector('#' + key + ' button');\n",
              "      quickchartButtonEl.disabled = true;  // To prevent multiple clicks.\n",
              "      quickchartButtonEl.classList.add('colab-df-spinner');\n",
              "      try {\n",
              "        const charts = await google.colab.kernel.invokeFunction(\n",
              "            'suggestCharts', [key], {});\n",
              "      } catch (error) {\n",
              "        console.error('Error during call to suggestCharts:', error);\n",
              "      }\n",
              "      quickchartButtonEl.classList.remove('colab-df-spinner');\n",
              "      quickchartButtonEl.classList.add('colab-df-quickchart-complete');\n",
              "    }\n",
              "    (() => {\n",
              "      let quickchartButtonEl =\n",
              "        document.querySelector('#df-6dc3306b-046b-4f78-9e5b-4b52ff1ec67c button');\n",
              "      quickchartButtonEl.style.display =\n",
              "        google.colab.kernel.accessAllowed ? 'block' : 'none';\n",
              "    })();\n",
              "  </script>\n",
              "</div>\n",
              "    </div>\n",
              "  </div>\n"
            ],
            "application/vnd.google.colaboratory.intrinsic+json": {
              "type": "dataframe",
              "variable_name": "df",
              "summary": "{\n  \"name\": \"df\",\n  \"rows\": 1000,\n  \"fields\": [\n    {\n      \"column\": \"Age\",\n      \"properties\": {\n        \"dtype\": \"number\",\n        \"std\": 11,\n        \"min\": 19,\n        \"max\": 75,\n        \"samples\": [\n          34,\n          38,\n          55\n        ],\n        \"num_unique_values\": 53,\n        \"semantic_type\": \"\",\n        \"description\": \"\"\n      }\n    },\n    {\n      \"column\": \"Sex\",\n      \"properties\": {\n        \"dtype\": \"category\",\n        \"samples\": [\n          \"female\",\n          \"male\"\n        ],\n        \"num_unique_values\": 2,\n        \"semantic_type\": \"\",\n        \"description\": \"\"\n      }\n    },\n    {\n      \"column\": \"Job\",\n      \"properties\": {\n        \"dtype\": \"number\",\n        \"std\": 0,\n        \"min\": 0,\n        \"max\": 3,\n        \"samples\": [\n          1,\n          0\n        ],\n        \"num_unique_values\": 4,\n        \"semantic_type\": \"\",\n        \"description\": \"\"\n      }\n    },\n    {\n      \"column\": \"Housing\",\n      \"properties\": {\n        \"dtype\": \"category\",\n        \"samples\": [\n          \"own\",\n          \"free\"\n        ],\n        \"num_unique_values\": 3,\n        \"semantic_type\": \"\",\n        \"description\": \"\"\n      }\n    },\n    {\n      \"column\": \"Saving accounts\",\n      \"properties\": {\n        \"dtype\": \"category\",\n        \"samples\": [\n          \"quite rich\",\n          \"moderate\"\n        ],\n        \"num_unique_values\": 4,\n        \"semantic_type\": \"\",\n        \"description\": \"\"\n      }\n    },\n    {\n      \"column\": \"Checking account\",\n      \"properties\": {\n        \"dtype\": \"category\",\n        \"samples\": [\n          \"little\",\n          \"moderate\"\n        ],\n        \"num_unique_values\": 3,\n        \"semantic_type\": \"\",\n        \"description\": \"\"\n      }\n    },\n    {\n      \"column\": \"Credit amount\",\n      \"properties\": {\n        \"dtype\": \"number\",\n        \"std\": 2822,\n        \"min\": 250,\n        \"max\": 18424,\n        \"samples\": [\n          1068,\n          2326\n        ],\n        \"num_unique_values\": 921,\n        \"semantic_type\": \"\",\n        \"description\": \"\"\n      }\n    },\n    {\n      \"column\": \"Duration\",\n      \"properties\": {\n        \"dtype\": \"number\",\n        \"std\": 12,\n        \"min\": 4,\n        \"max\": 72,\n        \"samples\": [\n          72,\n          27\n        ],\n        \"num_unique_values\": 33,\n        \"semantic_type\": \"\",\n        \"description\": \"\"\n      }\n    },\n    {\n      \"column\": \"Purpose\",\n      \"properties\": {\n        \"dtype\": \"category\",\n        \"samples\": [\n          \"education\",\n          \"domestic appliances\"\n        ],\n        \"num_unique_values\": 8,\n        \"semantic_type\": \"\",\n        \"description\": \"\"\n      }\n    }\n  ]\n}"
            }
          },
          "metadata": {},
          "execution_count": 176
        }
      ]
    },
    {
      "cell_type": "markdown",
      "source": [
        "We remove the categories we don't need and clean the data before feeding it into the model."
      ],
      "metadata": {
        "id": "bRlIyr4r6pbd"
      }
    },
    {
      "cell_type": "code",
      "source": [
        "# Data Cleaning & Processing\n",
        "df0 = df.copy()\n",
        "df0['Age<=40'] = (df0['Age'] <= 40).astype(int)\n",
        "df0['status'] = (df0['Credit amount'] > 1500).astype(int)\n",
        "df0['Sex'] = (df0['Sex'] == 'male').astype(int)\n",
        "\n",
        "# Create a mapping dictionary\n",
        "housing_dict = {'own': 0, 'free': 1, 'rent': 2}\n",
        "saving_dict = {'little': 0, 'moderate':1, 'quite rich': 2, 'rich': 3}\n",
        "checking_dict = {'little': 0, 'moderate':1, 'rich': 2}\n",
        "purpose_dict = {'radio/TV': 0, 'education':1, 'furniture/equipment': 2, 'car': 3, 'business':4, 'domestic appliances':5, 'repairs':6, 'vacation/others':7}\n",
        "\n",
        "# Use the map function to to convert categorial to numerical variables\n",
        "df0['Housing'] = df0['Housing'].map(housing_dict)\n",
        "df0['Saving accounts'] = df0['Saving accounts'].map(saving_dict)\n",
        "df0['Checking account'] = df0['Checking account'].map(checking_dict)\n",
        "df0['Purpose'] = df0['Purpose'].map(purpose_dict)\n",
        "print('Initial Dataset')\n",
        "display(df0.head())\n",
        "display(df0.shape)\n",
        "columns_to_drop = ['Credit amount', 'Age', 'Checking account']\n",
        "df0.drop(columns=columns_to_drop, inplace=True)\n",
        "df0 = df0[df['Saving accounts'].notna()]\n",
        "print()\n",
        "print('Preprocessed Dataset')\n",
        "display(df0.head())\n",
        "display(df0.shape)"
      ],
      "metadata": {
        "id": "0xbCPJJ67cuR",
        "colab": {
          "base_uri": "https://localhost:8080/",
          "height": 485
        },
        "outputId": "0f2b6485-4300-49fa-b505-1d16fc74f4a4"
      },
      "execution_count": 177,
      "outputs": [
        {
          "output_type": "stream",
          "name": "stdout",
          "text": [
            "Initial Dataset\n"
          ]
        },
        {
          "output_type": "display_data",
          "data": {
            "text/plain": [
              "   Age  Sex  Job  Housing  Saving accounts  Checking account  Credit amount  \\\n",
              "0   67    1    2        0              NaN               0.0           1169   \n",
              "1   22    0    2        0              0.0               1.0           5951   \n",
              "2   49    1    1        0              0.0               NaN           2096   \n",
              "3   45    1    2        1              0.0               0.0           7882   \n",
              "4   53    1    2        1              0.0               0.0           4870   \n",
              "\n",
              "   Duration  Purpose  Age<=40  status  \n",
              "0         6        0        0       0  \n",
              "1        48        0        1       1  \n",
              "2        12        1        0       1  \n",
              "3        42        2        0       1  \n",
              "4        24        3        0       1  "
            ],
            "text/html": [
              "\n",
              "  <div id=\"df-f1ef5fb0-63ca-4d8c-9852-a47850b3423f\" class=\"colab-df-container\">\n",
              "    <div>\n",
              "<style scoped>\n",
              "    .dataframe tbody tr th:only-of-type {\n",
              "        vertical-align: middle;\n",
              "    }\n",
              "\n",
              "    .dataframe tbody tr th {\n",
              "        vertical-align: top;\n",
              "    }\n",
              "\n",
              "    .dataframe thead th {\n",
              "        text-align: right;\n",
              "    }\n",
              "</style>\n",
              "<table border=\"1\" class=\"dataframe\">\n",
              "  <thead>\n",
              "    <tr style=\"text-align: right;\">\n",
              "      <th></th>\n",
              "      <th>Age</th>\n",
              "      <th>Sex</th>\n",
              "      <th>Job</th>\n",
              "      <th>Housing</th>\n",
              "      <th>Saving accounts</th>\n",
              "      <th>Checking account</th>\n",
              "      <th>Credit amount</th>\n",
              "      <th>Duration</th>\n",
              "      <th>Purpose</th>\n",
              "      <th>Age&lt;=40</th>\n",
              "      <th>status</th>\n",
              "    </tr>\n",
              "  </thead>\n",
              "  <tbody>\n",
              "    <tr>\n",
              "      <th>0</th>\n",
              "      <td>67</td>\n",
              "      <td>1</td>\n",
              "      <td>2</td>\n",
              "      <td>0</td>\n",
              "      <td>NaN</td>\n",
              "      <td>0.0</td>\n",
              "      <td>1169</td>\n",
              "      <td>6</td>\n",
              "      <td>0</td>\n",
              "      <td>0</td>\n",
              "      <td>0</td>\n",
              "    </tr>\n",
              "    <tr>\n",
              "      <th>1</th>\n",
              "      <td>22</td>\n",
              "      <td>0</td>\n",
              "      <td>2</td>\n",
              "      <td>0</td>\n",
              "      <td>0.0</td>\n",
              "      <td>1.0</td>\n",
              "      <td>5951</td>\n",
              "      <td>48</td>\n",
              "      <td>0</td>\n",
              "      <td>1</td>\n",
              "      <td>1</td>\n",
              "    </tr>\n",
              "    <tr>\n",
              "      <th>2</th>\n",
              "      <td>49</td>\n",
              "      <td>1</td>\n",
              "      <td>1</td>\n",
              "      <td>0</td>\n",
              "      <td>0.0</td>\n",
              "      <td>NaN</td>\n",
              "      <td>2096</td>\n",
              "      <td>12</td>\n",
              "      <td>1</td>\n",
              "      <td>0</td>\n",
              "      <td>1</td>\n",
              "    </tr>\n",
              "    <tr>\n",
              "      <th>3</th>\n",
              "      <td>45</td>\n",
              "      <td>1</td>\n",
              "      <td>2</td>\n",
              "      <td>1</td>\n",
              "      <td>0.0</td>\n",
              "      <td>0.0</td>\n",
              "      <td>7882</td>\n",
              "      <td>42</td>\n",
              "      <td>2</td>\n",
              "      <td>0</td>\n",
              "      <td>1</td>\n",
              "    </tr>\n",
              "    <tr>\n",
              "      <th>4</th>\n",
              "      <td>53</td>\n",
              "      <td>1</td>\n",
              "      <td>2</td>\n",
              "      <td>1</td>\n",
              "      <td>0.0</td>\n",
              "      <td>0.0</td>\n",
              "      <td>4870</td>\n",
              "      <td>24</td>\n",
              "      <td>3</td>\n",
              "      <td>0</td>\n",
              "      <td>1</td>\n",
              "    </tr>\n",
              "  </tbody>\n",
              "</table>\n",
              "</div>\n",
              "    <div class=\"colab-df-buttons\">\n",
              "\n",
              "  <div class=\"colab-df-container\">\n",
              "    <button class=\"colab-df-convert\" onclick=\"convertToInteractive('df-f1ef5fb0-63ca-4d8c-9852-a47850b3423f')\"\n",
              "            title=\"Convert this dataframe to an interactive table.\"\n",
              "            style=\"display:none;\">\n",
              "\n",
              "  <svg xmlns=\"http://www.w3.org/2000/svg\" height=\"24px\" viewBox=\"0 -960 960 960\">\n",
              "    <path d=\"M120-120v-720h720v720H120Zm60-500h600v-160H180v160Zm220 220h160v-160H400v160Zm0 220h160v-160H400v160ZM180-400h160v-160H180v160Zm440 0h160v-160H620v160ZM180-180h160v-160H180v160Zm440 0h160v-160H620v160Z\"/>\n",
              "  </svg>\n",
              "    </button>\n",
              "\n",
              "  <style>\n",
              "    .colab-df-container {\n",
              "      display:flex;\n",
              "      gap: 12px;\n",
              "    }\n",
              "\n",
              "    .colab-df-convert {\n",
              "      background-color: #E8F0FE;\n",
              "      border: none;\n",
              "      border-radius: 50%;\n",
              "      cursor: pointer;\n",
              "      display: none;\n",
              "      fill: #1967D2;\n",
              "      height: 32px;\n",
              "      padding: 0 0 0 0;\n",
              "      width: 32px;\n",
              "    }\n",
              "\n",
              "    .colab-df-convert:hover {\n",
              "      background-color: #E2EBFA;\n",
              "      box-shadow: 0px 1px 2px rgba(60, 64, 67, 0.3), 0px 1px 3px 1px rgba(60, 64, 67, 0.15);\n",
              "      fill: #174EA6;\n",
              "    }\n",
              "\n",
              "    .colab-df-buttons div {\n",
              "      margin-bottom: 4px;\n",
              "    }\n",
              "\n",
              "    [theme=dark] .colab-df-convert {\n",
              "      background-color: #3B4455;\n",
              "      fill: #D2E3FC;\n",
              "    }\n",
              "\n",
              "    [theme=dark] .colab-df-convert:hover {\n",
              "      background-color: #434B5C;\n",
              "      box-shadow: 0px 1px 3px 1px rgba(0, 0, 0, 0.15);\n",
              "      filter: drop-shadow(0px 1px 2px rgba(0, 0, 0, 0.3));\n",
              "      fill: #FFFFFF;\n",
              "    }\n",
              "  </style>\n",
              "\n",
              "    <script>\n",
              "      const buttonEl =\n",
              "        document.querySelector('#df-f1ef5fb0-63ca-4d8c-9852-a47850b3423f button.colab-df-convert');\n",
              "      buttonEl.style.display =\n",
              "        google.colab.kernel.accessAllowed ? 'block' : 'none';\n",
              "\n",
              "      async function convertToInteractive(key) {\n",
              "        const element = document.querySelector('#df-f1ef5fb0-63ca-4d8c-9852-a47850b3423f');\n",
              "        const dataTable =\n",
              "          await google.colab.kernel.invokeFunction('convertToInteractive',\n",
              "                                                    [key], {});\n",
              "        if (!dataTable) return;\n",
              "\n",
              "        const docLinkHtml = 'Like what you see? Visit the ' +\n",
              "          '<a target=\"_blank\" href=https://colab.research.google.com/notebooks/data_table.ipynb>data table notebook</a>'\n",
              "          + ' to learn more about interactive tables.';\n",
              "        element.innerHTML = '';\n",
              "        dataTable['output_type'] = 'display_data';\n",
              "        await google.colab.output.renderOutput(dataTable, element);\n",
              "        const docLink = document.createElement('div');\n",
              "        docLink.innerHTML = docLinkHtml;\n",
              "        element.appendChild(docLink);\n",
              "      }\n",
              "    </script>\n",
              "  </div>\n",
              "\n",
              "\n",
              "<div id=\"df-c885a96d-2e73-4bd4-a045-438b8ee7b460\">\n",
              "  <button class=\"colab-df-quickchart\" onclick=\"quickchart('df-c885a96d-2e73-4bd4-a045-438b8ee7b460')\"\n",
              "            title=\"Suggest charts\"\n",
              "            style=\"display:none;\">\n",
              "\n",
              "<svg xmlns=\"http://www.w3.org/2000/svg\" height=\"24px\"viewBox=\"0 0 24 24\"\n",
              "     width=\"24px\">\n",
              "    <g>\n",
              "        <path d=\"M19 3H5c-1.1 0-2 .9-2 2v14c0 1.1.9 2 2 2h14c1.1 0 2-.9 2-2V5c0-1.1-.9-2-2-2zM9 17H7v-7h2v7zm4 0h-2V7h2v10zm4 0h-2v-4h2v4z\"/>\n",
              "    </g>\n",
              "</svg>\n",
              "  </button>\n",
              "\n",
              "<style>\n",
              "  .colab-df-quickchart {\n",
              "      --bg-color: #E8F0FE;\n",
              "      --fill-color: #1967D2;\n",
              "      --hover-bg-color: #E2EBFA;\n",
              "      --hover-fill-color: #174EA6;\n",
              "      --disabled-fill-color: #AAA;\n",
              "      --disabled-bg-color: #DDD;\n",
              "  }\n",
              "\n",
              "  [theme=dark] .colab-df-quickchart {\n",
              "      --bg-color: #3B4455;\n",
              "      --fill-color: #D2E3FC;\n",
              "      --hover-bg-color: #434B5C;\n",
              "      --hover-fill-color: #FFFFFF;\n",
              "      --disabled-bg-color: #3B4455;\n",
              "      --disabled-fill-color: #666;\n",
              "  }\n",
              "\n",
              "  .colab-df-quickchart {\n",
              "    background-color: var(--bg-color);\n",
              "    border: none;\n",
              "    border-radius: 50%;\n",
              "    cursor: pointer;\n",
              "    display: none;\n",
              "    fill: var(--fill-color);\n",
              "    height: 32px;\n",
              "    padding: 0;\n",
              "    width: 32px;\n",
              "  }\n",
              "\n",
              "  .colab-df-quickchart:hover {\n",
              "    background-color: var(--hover-bg-color);\n",
              "    box-shadow: 0 1px 2px rgba(60, 64, 67, 0.3), 0 1px 3px 1px rgba(60, 64, 67, 0.15);\n",
              "    fill: var(--button-hover-fill-color);\n",
              "  }\n",
              "\n",
              "  .colab-df-quickchart-complete:disabled,\n",
              "  .colab-df-quickchart-complete:disabled:hover {\n",
              "    background-color: var(--disabled-bg-color);\n",
              "    fill: var(--disabled-fill-color);\n",
              "    box-shadow: none;\n",
              "  }\n",
              "\n",
              "  .colab-df-spinner {\n",
              "    border: 2px solid var(--fill-color);\n",
              "    border-color: transparent;\n",
              "    border-bottom-color: var(--fill-color);\n",
              "    animation:\n",
              "      spin 1s steps(1) infinite;\n",
              "  }\n",
              "\n",
              "  @keyframes spin {\n",
              "    0% {\n",
              "      border-color: transparent;\n",
              "      border-bottom-color: var(--fill-color);\n",
              "      border-left-color: var(--fill-color);\n",
              "    }\n",
              "    20% {\n",
              "      border-color: transparent;\n",
              "      border-left-color: var(--fill-color);\n",
              "      border-top-color: var(--fill-color);\n",
              "    }\n",
              "    30% {\n",
              "      border-color: transparent;\n",
              "      border-left-color: var(--fill-color);\n",
              "      border-top-color: var(--fill-color);\n",
              "      border-right-color: var(--fill-color);\n",
              "    }\n",
              "    40% {\n",
              "      border-color: transparent;\n",
              "      border-right-color: var(--fill-color);\n",
              "      border-top-color: var(--fill-color);\n",
              "    }\n",
              "    60% {\n",
              "      border-color: transparent;\n",
              "      border-right-color: var(--fill-color);\n",
              "    }\n",
              "    80% {\n",
              "      border-color: transparent;\n",
              "      border-right-color: var(--fill-color);\n",
              "      border-bottom-color: var(--fill-color);\n",
              "    }\n",
              "    90% {\n",
              "      border-color: transparent;\n",
              "      border-bottom-color: var(--fill-color);\n",
              "    }\n",
              "  }\n",
              "</style>\n",
              "\n",
              "  <script>\n",
              "    async function quickchart(key) {\n",
              "      const quickchartButtonEl =\n",
              "        document.querySelector('#' + key + ' button');\n",
              "      quickchartButtonEl.disabled = true;  // To prevent multiple clicks.\n",
              "      quickchartButtonEl.classList.add('colab-df-spinner');\n",
              "      try {\n",
              "        const charts = await google.colab.kernel.invokeFunction(\n",
              "            'suggestCharts', [key], {});\n",
              "      } catch (error) {\n",
              "        console.error('Error during call to suggestCharts:', error);\n",
              "      }\n",
              "      quickchartButtonEl.classList.remove('colab-df-spinner');\n",
              "      quickchartButtonEl.classList.add('colab-df-quickchart-complete');\n",
              "    }\n",
              "    (() => {\n",
              "      let quickchartButtonEl =\n",
              "        document.querySelector('#df-c885a96d-2e73-4bd4-a045-438b8ee7b460 button');\n",
              "      quickchartButtonEl.style.display =\n",
              "        google.colab.kernel.accessAllowed ? 'block' : 'none';\n",
              "    })();\n",
              "  </script>\n",
              "</div>\n",
              "    </div>\n",
              "  </div>\n"
            ],
            "application/vnd.google.colaboratory.intrinsic+json": {
              "type": "dataframe",
              "summary": "{\n  \"name\": \"display(df0\",\n  \"rows\": 5,\n  \"fields\": [\n    {\n      \"column\": \"Age\",\n      \"properties\": {\n        \"dtype\": \"number\",\n        \"std\": 16,\n        \"min\": 22,\n        \"max\": 67,\n        \"samples\": [\n          22,\n          53,\n          49\n        ],\n        \"num_unique_values\": 5,\n        \"semantic_type\": \"\",\n        \"description\": \"\"\n      }\n    },\n    {\n      \"column\": \"Sex\",\n      \"properties\": {\n        \"dtype\": \"number\",\n        \"std\": 0,\n        \"min\": 0,\n        \"max\": 1,\n        \"samples\": [\n          0,\n          1\n        ],\n        \"num_unique_values\": 2,\n        \"semantic_type\": \"\",\n        \"description\": \"\"\n      }\n    },\n    {\n      \"column\": \"Job\",\n      \"properties\": {\n        \"dtype\": \"number\",\n        \"std\": 0,\n        \"min\": 1,\n        \"max\": 2,\n        \"samples\": [\n          1,\n          2\n        ],\n        \"num_unique_values\": 2,\n        \"semantic_type\": \"\",\n        \"description\": \"\"\n      }\n    },\n    {\n      \"column\": \"Housing\",\n      \"properties\": {\n        \"dtype\": \"number\",\n        \"std\": 0,\n        \"min\": 0,\n        \"max\": 1,\n        \"samples\": [\n          1,\n          0\n        ],\n        \"num_unique_values\": 2,\n        \"semantic_type\": \"\",\n        \"description\": \"\"\n      }\n    },\n    {\n      \"column\": \"Saving accounts\",\n      \"properties\": {\n        \"dtype\": \"number\",\n        \"std\": 0.0,\n        \"min\": 0.0,\n        \"max\": 0.0,\n        \"samples\": [\n          0.0\n        ],\n        \"num_unique_values\": 1,\n        \"semantic_type\": \"\",\n        \"description\": \"\"\n      }\n    },\n    {\n      \"column\": \"Checking account\",\n      \"properties\": {\n        \"dtype\": \"number\",\n        \"std\": 0.5,\n        \"min\": 0.0,\n        \"max\": 1.0,\n        \"samples\": [\n          1.0\n        ],\n        \"num_unique_values\": 2,\n        \"semantic_type\": \"\",\n        \"description\": \"\"\n      }\n    },\n    {\n      \"column\": \"Credit amount\",\n      \"properties\": {\n        \"dtype\": \"number\",\n        \"std\": 2761,\n        \"min\": 1169,\n        \"max\": 7882,\n        \"samples\": [\n          5951\n        ],\n        \"num_unique_values\": 5,\n        \"semantic_type\": \"\",\n        \"description\": \"\"\n      }\n    },\n    {\n      \"column\": \"Duration\",\n      \"properties\": {\n        \"dtype\": \"number\",\n        \"std\": 18,\n        \"min\": 6,\n        \"max\": 48,\n        \"samples\": [\n          48\n        ],\n        \"num_unique_values\": 5,\n        \"semantic_type\": \"\",\n        \"description\": \"\"\n      }\n    },\n    {\n      \"column\": \"Purpose\",\n      \"properties\": {\n        \"dtype\": \"number\",\n        \"std\": 1,\n        \"min\": 0,\n        \"max\": 3,\n        \"samples\": [\n          1\n        ],\n        \"num_unique_values\": 4,\n        \"semantic_type\": \"\",\n        \"description\": \"\"\n      }\n    },\n    {\n      \"column\": \"Age<=40\",\n      \"properties\": {\n        \"dtype\": \"number\",\n        \"std\": 0,\n        \"min\": 0,\n        \"max\": 1,\n        \"samples\": [\n          1\n        ],\n        \"num_unique_values\": 2,\n        \"semantic_type\": \"\",\n        \"description\": \"\"\n      }\n    },\n    {\n      \"column\": \"status\",\n      \"properties\": {\n        \"dtype\": \"number\",\n        \"std\": 0,\n        \"min\": 0,\n        \"max\": 1,\n        \"samples\": [\n          1\n        ],\n        \"num_unique_values\": 2,\n        \"semantic_type\": \"\",\n        \"description\": \"\"\n      }\n    }\n  ]\n}"
            }
          },
          "metadata": {}
        },
        {
          "output_type": "display_data",
          "data": {
            "text/plain": [
              "(1000, 11)"
            ]
          },
          "metadata": {}
        },
        {
          "output_type": "stream",
          "name": "stdout",
          "text": [
            "\n",
            "Preprocessed Dataset\n"
          ]
        },
        {
          "output_type": "display_data",
          "data": {
            "text/plain": [
              "   Sex  Job  Housing  Saving accounts  Duration  Purpose  Age<=40  status\n",
              "1    0    2        0              0.0        48        0        1       1\n",
              "2    1    1        0              0.0        12        1        0       1\n",
              "3    1    2        1              0.0        42        2        0       1\n",
              "4    1    2        1              0.0        24        3        0       1\n",
              "6    1    2        0              2.0        24        2        0       1"
            ],
            "text/html": [
              "\n",
              "  <div id=\"df-7f2119b1-e498-401d-9053-5bb5e8072510\" class=\"colab-df-container\">\n",
              "    <div>\n",
              "<style scoped>\n",
              "    .dataframe tbody tr th:only-of-type {\n",
              "        vertical-align: middle;\n",
              "    }\n",
              "\n",
              "    .dataframe tbody tr th {\n",
              "        vertical-align: top;\n",
              "    }\n",
              "\n",
              "    .dataframe thead th {\n",
              "        text-align: right;\n",
              "    }\n",
              "</style>\n",
              "<table border=\"1\" class=\"dataframe\">\n",
              "  <thead>\n",
              "    <tr style=\"text-align: right;\">\n",
              "      <th></th>\n",
              "      <th>Sex</th>\n",
              "      <th>Job</th>\n",
              "      <th>Housing</th>\n",
              "      <th>Saving accounts</th>\n",
              "      <th>Duration</th>\n",
              "      <th>Purpose</th>\n",
              "      <th>Age&lt;=40</th>\n",
              "      <th>status</th>\n",
              "    </tr>\n",
              "  </thead>\n",
              "  <tbody>\n",
              "    <tr>\n",
              "      <th>1</th>\n",
              "      <td>0</td>\n",
              "      <td>2</td>\n",
              "      <td>0</td>\n",
              "      <td>0.0</td>\n",
              "      <td>48</td>\n",
              "      <td>0</td>\n",
              "      <td>1</td>\n",
              "      <td>1</td>\n",
              "    </tr>\n",
              "    <tr>\n",
              "      <th>2</th>\n",
              "      <td>1</td>\n",
              "      <td>1</td>\n",
              "      <td>0</td>\n",
              "      <td>0.0</td>\n",
              "      <td>12</td>\n",
              "      <td>1</td>\n",
              "      <td>0</td>\n",
              "      <td>1</td>\n",
              "    </tr>\n",
              "    <tr>\n",
              "      <th>3</th>\n",
              "      <td>1</td>\n",
              "      <td>2</td>\n",
              "      <td>1</td>\n",
              "      <td>0.0</td>\n",
              "      <td>42</td>\n",
              "      <td>2</td>\n",
              "      <td>0</td>\n",
              "      <td>1</td>\n",
              "    </tr>\n",
              "    <tr>\n",
              "      <th>4</th>\n",
              "      <td>1</td>\n",
              "      <td>2</td>\n",
              "      <td>1</td>\n",
              "      <td>0.0</td>\n",
              "      <td>24</td>\n",
              "      <td>3</td>\n",
              "      <td>0</td>\n",
              "      <td>1</td>\n",
              "    </tr>\n",
              "    <tr>\n",
              "      <th>6</th>\n",
              "      <td>1</td>\n",
              "      <td>2</td>\n",
              "      <td>0</td>\n",
              "      <td>2.0</td>\n",
              "      <td>24</td>\n",
              "      <td>2</td>\n",
              "      <td>0</td>\n",
              "      <td>1</td>\n",
              "    </tr>\n",
              "  </tbody>\n",
              "</table>\n",
              "</div>\n",
              "    <div class=\"colab-df-buttons\">\n",
              "\n",
              "  <div class=\"colab-df-container\">\n",
              "    <button class=\"colab-df-convert\" onclick=\"convertToInteractive('df-7f2119b1-e498-401d-9053-5bb5e8072510')\"\n",
              "            title=\"Convert this dataframe to an interactive table.\"\n",
              "            style=\"display:none;\">\n",
              "\n",
              "  <svg xmlns=\"http://www.w3.org/2000/svg\" height=\"24px\" viewBox=\"0 -960 960 960\">\n",
              "    <path d=\"M120-120v-720h720v720H120Zm60-500h600v-160H180v160Zm220 220h160v-160H400v160Zm0 220h160v-160H400v160ZM180-400h160v-160H180v160Zm440 0h160v-160H620v160ZM180-180h160v-160H180v160Zm440 0h160v-160H620v160Z\"/>\n",
              "  </svg>\n",
              "    </button>\n",
              "\n",
              "  <style>\n",
              "    .colab-df-container {\n",
              "      display:flex;\n",
              "      gap: 12px;\n",
              "    }\n",
              "\n",
              "    .colab-df-convert {\n",
              "      background-color: #E8F0FE;\n",
              "      border: none;\n",
              "      border-radius: 50%;\n",
              "      cursor: pointer;\n",
              "      display: none;\n",
              "      fill: #1967D2;\n",
              "      height: 32px;\n",
              "      padding: 0 0 0 0;\n",
              "      width: 32px;\n",
              "    }\n",
              "\n",
              "    .colab-df-convert:hover {\n",
              "      background-color: #E2EBFA;\n",
              "      box-shadow: 0px 1px 2px rgba(60, 64, 67, 0.3), 0px 1px 3px 1px rgba(60, 64, 67, 0.15);\n",
              "      fill: #174EA6;\n",
              "    }\n",
              "\n",
              "    .colab-df-buttons div {\n",
              "      margin-bottom: 4px;\n",
              "    }\n",
              "\n",
              "    [theme=dark] .colab-df-convert {\n",
              "      background-color: #3B4455;\n",
              "      fill: #D2E3FC;\n",
              "    }\n",
              "\n",
              "    [theme=dark] .colab-df-convert:hover {\n",
              "      background-color: #434B5C;\n",
              "      box-shadow: 0px 1px 3px 1px rgba(0, 0, 0, 0.15);\n",
              "      filter: drop-shadow(0px 1px 2px rgba(0, 0, 0, 0.3));\n",
              "      fill: #FFFFFF;\n",
              "    }\n",
              "  </style>\n",
              "\n",
              "    <script>\n",
              "      const buttonEl =\n",
              "        document.querySelector('#df-7f2119b1-e498-401d-9053-5bb5e8072510 button.colab-df-convert');\n",
              "      buttonEl.style.display =\n",
              "        google.colab.kernel.accessAllowed ? 'block' : 'none';\n",
              "\n",
              "      async function convertToInteractive(key) {\n",
              "        const element = document.querySelector('#df-7f2119b1-e498-401d-9053-5bb5e8072510');\n",
              "        const dataTable =\n",
              "          await google.colab.kernel.invokeFunction('convertToInteractive',\n",
              "                                                    [key], {});\n",
              "        if (!dataTable) return;\n",
              "\n",
              "        const docLinkHtml = 'Like what you see? Visit the ' +\n",
              "          '<a target=\"_blank\" href=https://colab.research.google.com/notebooks/data_table.ipynb>data table notebook</a>'\n",
              "          + ' to learn more about interactive tables.';\n",
              "        element.innerHTML = '';\n",
              "        dataTable['output_type'] = 'display_data';\n",
              "        await google.colab.output.renderOutput(dataTable, element);\n",
              "        const docLink = document.createElement('div');\n",
              "        docLink.innerHTML = docLinkHtml;\n",
              "        element.appendChild(docLink);\n",
              "      }\n",
              "    </script>\n",
              "  </div>\n",
              "\n",
              "\n",
              "<div id=\"df-8b0667a5-c31e-4291-a14f-6d4aa1579200\">\n",
              "  <button class=\"colab-df-quickchart\" onclick=\"quickchart('df-8b0667a5-c31e-4291-a14f-6d4aa1579200')\"\n",
              "            title=\"Suggest charts\"\n",
              "            style=\"display:none;\">\n",
              "\n",
              "<svg xmlns=\"http://www.w3.org/2000/svg\" height=\"24px\"viewBox=\"0 0 24 24\"\n",
              "     width=\"24px\">\n",
              "    <g>\n",
              "        <path d=\"M19 3H5c-1.1 0-2 .9-2 2v14c0 1.1.9 2 2 2h14c1.1 0 2-.9 2-2V5c0-1.1-.9-2-2-2zM9 17H7v-7h2v7zm4 0h-2V7h2v10zm4 0h-2v-4h2v4z\"/>\n",
              "    </g>\n",
              "</svg>\n",
              "  </button>\n",
              "\n",
              "<style>\n",
              "  .colab-df-quickchart {\n",
              "      --bg-color: #E8F0FE;\n",
              "      --fill-color: #1967D2;\n",
              "      --hover-bg-color: #E2EBFA;\n",
              "      --hover-fill-color: #174EA6;\n",
              "      --disabled-fill-color: #AAA;\n",
              "      --disabled-bg-color: #DDD;\n",
              "  }\n",
              "\n",
              "  [theme=dark] .colab-df-quickchart {\n",
              "      --bg-color: #3B4455;\n",
              "      --fill-color: #D2E3FC;\n",
              "      --hover-bg-color: #434B5C;\n",
              "      --hover-fill-color: #FFFFFF;\n",
              "      --disabled-bg-color: #3B4455;\n",
              "      --disabled-fill-color: #666;\n",
              "  }\n",
              "\n",
              "  .colab-df-quickchart {\n",
              "    background-color: var(--bg-color);\n",
              "    border: none;\n",
              "    border-radius: 50%;\n",
              "    cursor: pointer;\n",
              "    display: none;\n",
              "    fill: var(--fill-color);\n",
              "    height: 32px;\n",
              "    padding: 0;\n",
              "    width: 32px;\n",
              "  }\n",
              "\n",
              "  .colab-df-quickchart:hover {\n",
              "    background-color: var(--hover-bg-color);\n",
              "    box-shadow: 0 1px 2px rgba(60, 64, 67, 0.3), 0 1px 3px 1px rgba(60, 64, 67, 0.15);\n",
              "    fill: var(--button-hover-fill-color);\n",
              "  }\n",
              "\n",
              "  .colab-df-quickchart-complete:disabled,\n",
              "  .colab-df-quickchart-complete:disabled:hover {\n",
              "    background-color: var(--disabled-bg-color);\n",
              "    fill: var(--disabled-fill-color);\n",
              "    box-shadow: none;\n",
              "  }\n",
              "\n",
              "  .colab-df-spinner {\n",
              "    border: 2px solid var(--fill-color);\n",
              "    border-color: transparent;\n",
              "    border-bottom-color: var(--fill-color);\n",
              "    animation:\n",
              "      spin 1s steps(1) infinite;\n",
              "  }\n",
              "\n",
              "  @keyframes spin {\n",
              "    0% {\n",
              "      border-color: transparent;\n",
              "      border-bottom-color: var(--fill-color);\n",
              "      border-left-color: var(--fill-color);\n",
              "    }\n",
              "    20% {\n",
              "      border-color: transparent;\n",
              "      border-left-color: var(--fill-color);\n",
              "      border-top-color: var(--fill-color);\n",
              "    }\n",
              "    30% {\n",
              "      border-color: transparent;\n",
              "      border-left-color: var(--fill-color);\n",
              "      border-top-color: var(--fill-color);\n",
              "      border-right-color: var(--fill-color);\n",
              "    }\n",
              "    40% {\n",
              "      border-color: transparent;\n",
              "      border-right-color: var(--fill-color);\n",
              "      border-top-color: var(--fill-color);\n",
              "    }\n",
              "    60% {\n",
              "      border-color: transparent;\n",
              "      border-right-color: var(--fill-color);\n",
              "    }\n",
              "    80% {\n",
              "      border-color: transparent;\n",
              "      border-right-color: var(--fill-color);\n",
              "      border-bottom-color: var(--fill-color);\n",
              "    }\n",
              "    90% {\n",
              "      border-color: transparent;\n",
              "      border-bottom-color: var(--fill-color);\n",
              "    }\n",
              "  }\n",
              "</style>\n",
              "\n",
              "  <script>\n",
              "    async function quickchart(key) {\n",
              "      const quickchartButtonEl =\n",
              "        document.querySelector('#' + key + ' button');\n",
              "      quickchartButtonEl.disabled = true;  // To prevent multiple clicks.\n",
              "      quickchartButtonEl.classList.add('colab-df-spinner');\n",
              "      try {\n",
              "        const charts = await google.colab.kernel.invokeFunction(\n",
              "            'suggestCharts', [key], {});\n",
              "      } catch (error) {\n",
              "        console.error('Error during call to suggestCharts:', error);\n",
              "      }\n",
              "      quickchartButtonEl.classList.remove('colab-df-spinner');\n",
              "      quickchartButtonEl.classList.add('colab-df-quickchart-complete');\n",
              "    }\n",
              "    (() => {\n",
              "      let quickchartButtonEl =\n",
              "        document.querySelector('#df-8b0667a5-c31e-4291-a14f-6d4aa1579200 button');\n",
              "      quickchartButtonEl.style.display =\n",
              "        google.colab.kernel.accessAllowed ? 'block' : 'none';\n",
              "    })();\n",
              "  </script>\n",
              "</div>\n",
              "    </div>\n",
              "  </div>\n"
            ],
            "application/vnd.google.colaboratory.intrinsic+json": {
              "type": "dataframe",
              "summary": "{\n  \"name\": \"display(df0\",\n  \"rows\": 5,\n  \"fields\": [\n    {\n      \"column\": \"Sex\",\n      \"properties\": {\n        \"dtype\": \"number\",\n        \"std\": 0,\n        \"min\": 0,\n        \"max\": 1,\n        \"samples\": [\n          1,\n          0\n        ],\n        \"num_unique_values\": 2,\n        \"semantic_type\": \"\",\n        \"description\": \"\"\n      }\n    },\n    {\n      \"column\": \"Job\",\n      \"properties\": {\n        \"dtype\": \"number\",\n        \"std\": 0,\n        \"min\": 1,\n        \"max\": 2,\n        \"samples\": [\n          1,\n          2\n        ],\n        \"num_unique_values\": 2,\n        \"semantic_type\": \"\",\n        \"description\": \"\"\n      }\n    },\n    {\n      \"column\": \"Housing\",\n      \"properties\": {\n        \"dtype\": \"number\",\n        \"std\": 0,\n        \"min\": 0,\n        \"max\": 1,\n        \"samples\": [\n          1,\n          0\n        ],\n        \"num_unique_values\": 2,\n        \"semantic_type\": \"\",\n        \"description\": \"\"\n      }\n    },\n    {\n      \"column\": \"Saving accounts\",\n      \"properties\": {\n        \"dtype\": \"number\",\n        \"std\": 0.894427190999916,\n        \"min\": 0.0,\n        \"max\": 2.0,\n        \"samples\": [\n          2.0,\n          0.0\n        ],\n        \"num_unique_values\": 2,\n        \"semantic_type\": \"\",\n        \"description\": \"\"\n      }\n    },\n    {\n      \"column\": \"Duration\",\n      \"properties\": {\n        \"dtype\": \"number\",\n        \"std\": 14,\n        \"min\": 12,\n        \"max\": 48,\n        \"samples\": [\n          12,\n          24\n        ],\n        \"num_unique_values\": 4,\n        \"semantic_type\": \"\",\n        \"description\": \"\"\n      }\n    },\n    {\n      \"column\": \"Purpose\",\n      \"properties\": {\n        \"dtype\": \"number\",\n        \"std\": 1,\n        \"min\": 0,\n        \"max\": 3,\n        \"samples\": [\n          1,\n          3\n        ],\n        \"num_unique_values\": 4,\n        \"semantic_type\": \"\",\n        \"description\": \"\"\n      }\n    },\n    {\n      \"column\": \"Age<=40\",\n      \"properties\": {\n        \"dtype\": \"number\",\n        \"std\": 0,\n        \"min\": 0,\n        \"max\": 1,\n        \"samples\": [\n          0,\n          1\n        ],\n        \"num_unique_values\": 2,\n        \"semantic_type\": \"\",\n        \"description\": \"\"\n      }\n    },\n    {\n      \"column\": \"status\",\n      \"properties\": {\n        \"dtype\": \"number\",\n        \"std\": 0,\n        \"min\": 1,\n        \"max\": 1,\n        \"samples\": [\n          1\n        ],\n        \"num_unique_values\": 1,\n        \"semantic_type\": \"\",\n        \"description\": \"\"\n      }\n    }\n  ]\n}"
            }
          },
          "metadata": {}
        },
        {
          "output_type": "display_data",
          "data": {
            "text/plain": [
              "(817, 8)"
            ]
          },
          "metadata": {}
        }
      ]
    },
    {
      "cell_type": "markdown",
      "source": [
        "We prepare our training and testing data."
      ],
      "metadata": {
        "id": "Awa3aFRP7H07"
      }
    },
    {
      "cell_type": "code",
      "source": [
        "# Independent features X\n",
        "X = df0.iloc[:, :-1]\n",
        "# Response feature y\n",
        "y = df0.iloc[:, -1]\n",
        "\n",
        "# prepare the train-test split\n",
        "X_train, X_test, y_train, y_test = train_test_split(\n",
        "    X, y, test_size=0.3, random_state=0)"
      ],
      "metadata": {
        "id": "OMPx_dRK7GvF"
      },
      "execution_count": 178,
      "outputs": []
    },
    {
      "cell_type": "code",
      "source": [
        "print(X_train)"
      ],
      "metadata": {
        "colab": {
          "base_uri": "https://localhost:8080/",
          "height": 0
        },
        "id": "93KWcnJ6x1cb",
        "outputId": "cdedc1cb-1e8b-4b26-d4a9-d81beec786ee"
      },
      "execution_count": 179,
      "outputs": [
        {
          "output_type": "stream",
          "name": "stdout",
          "text": [
            "     Sex  Job  Housing  Saving accounts  Duration  Purpose  Age<=40\n",
            "355    1    1        0              0.0        24        3        1\n",
            "378    1    3        1              0.0        36        3        0\n",
            "26     1    1        0              0.0         6        0        1\n",
            "783    0    1        0              1.0        12        3        1\n",
            "782    1    1        0              0.0        12        1        1\n",
            "..   ...  ...      ...              ...       ...      ...      ...\n",
            "934    0    2        0              0.0        12        0        1\n",
            "232    1    2        0              1.0        12        0        1\n",
            "759    1    2        0              0.0        12        3        1\n",
            "675    0    3        2              0.0        30        0        1\n",
            "831    0    2        2              0.0        18        3        1\n",
            "\n",
            "[571 rows x 7 columns]\n"
          ]
        }
      ]
    },
    {
      "cell_type": "code",
      "execution_count": 180,
      "metadata": {
        "id": "bpRB1-oYWgl1"
      },
      "outputs": [],
      "source": [
        "def compute_metrics(sensitive_attribute, predictions, dataset, true_labels, majority_class, minority_class, disp=True):\n",
        "  metrics = {}\n",
        "\n",
        "  # TODO: Fill out the metrics dictionary\n",
        "  metrics['statistical parity difference']=spd(sensitive_attribute,dataset,predictions,majority_class,minority_class)\n",
        "  metrics['disparate impact'] = di(sensitive_attribute,dataset,predictions,majority_class,minority_class)\n",
        "  metrics['equal opportunity difference'] = eod(sensitive_attribute, predictions, dataset, true_labels, majority_class, minority_class)\n",
        "  metrics['average absolute odds difference'] =aaod(sensitive_attribute, predictions, dataset, true_labels, majority_class, minority_class)\n",
        "\n",
        "  if disp:\n",
        "      for k in metrics:\n",
        "          print(\"%s = %.4f\" % (k, metrics[k]))\n",
        "\n",
        "  return metrics"
      ]
    },
    {
      "cell_type": "markdown",
      "source": [
        "We now train our model."
      ],
      "metadata": {
        "id": "_lAshbIr6-k1"
      }
    },
    {
      "cell_type": "code",
      "source": [
        "from sklearn.linear_model import LogisticRegression\n",
        "\n",
        "def train_model(X_train, y_train):\n",
        "  # build and train a logistic regression model\n",
        "  model = make_pipeline(StandardScaler(), LogisticRegression(random_state=0))\n",
        "  model.fit(X_train, y_train)\n",
        "  return model\n",
        "\n",
        "loan_model = train_model(X_train, y_train)"
      ],
      "metadata": {
        "id": "W_moJ_JHAnQU"
      },
      "execution_count": 181,
      "outputs": []
    },
    {
      "cell_type": "markdown",
      "source": [
        "Using our model and compute_metrics() function, we output the different fairness metrics."
      ],
      "metadata": {
        "id": "Gd8-ryz47T5O"
      }
    },
    {
      "cell_type": "code",
      "execution_count": 182,
      "metadata": {
        "id": "foyUqyHyYa9m",
        "colab": {
          "base_uri": "https://localhost:8080/",
          "height": 184
        },
        "outputId": "36611b47-5b38-408c-81b7-5bf565b5aff5"
      },
      "outputs": [
        {
          "output_type": "stream",
          "name": "stdout",
          "text": [
            "statistical parity difference = 0.0793\n",
            "disparate impact = 1.3319\n",
            "equal opportunity difference = 0.0198\n",
            "average absolute odds difference = 0.0509\n"
          ]
        },
        {
          "output_type": "execute_result",
          "data": {
            "text/plain": [
              "           statistical parity difference  disparate impact  \\\n",
              "age_range                                                    \n",
              "Age<=40                         0.079293          1.331924   \n",
              "\n",
              "           equal opportunity difference  average absolute odds difference  \n",
              "age_range                                                                  \n",
              "Age<=40                        0.019763                          0.050905  "
            ],
            "text/html": [
              "\n",
              "  <div id=\"df-1f74c26f-cba7-4eb8-9a1e-e10323977174\" class=\"colab-df-container\">\n",
              "    <div>\n",
              "<style scoped>\n",
              "    .dataframe tbody tr th:only-of-type {\n",
              "        vertical-align: middle;\n",
              "    }\n",
              "\n",
              "    .dataframe tbody tr th {\n",
              "        vertical-align: top;\n",
              "    }\n",
              "\n",
              "    .dataframe thead th {\n",
              "        text-align: right;\n",
              "    }\n",
              "</style>\n",
              "<table border=\"1\" class=\"dataframe\">\n",
              "  <thead>\n",
              "    <tr style=\"text-align: right;\">\n",
              "      <th></th>\n",
              "      <th>statistical parity difference</th>\n",
              "      <th>disparate impact</th>\n",
              "      <th>equal opportunity difference</th>\n",
              "      <th>average absolute odds difference</th>\n",
              "    </tr>\n",
              "    <tr>\n",
              "      <th>age_range</th>\n",
              "      <th></th>\n",
              "      <th></th>\n",
              "      <th></th>\n",
              "      <th></th>\n",
              "    </tr>\n",
              "  </thead>\n",
              "  <tbody>\n",
              "    <tr>\n",
              "      <th>Age&lt;=40</th>\n",
              "      <td>0.079293</td>\n",
              "      <td>1.331924</td>\n",
              "      <td>0.019763</td>\n",
              "      <td>0.050905</td>\n",
              "    </tr>\n",
              "  </tbody>\n",
              "</table>\n",
              "</div>\n",
              "    <div class=\"colab-df-buttons\">\n",
              "\n",
              "  <div class=\"colab-df-container\">\n",
              "    <button class=\"colab-df-convert\" onclick=\"convertToInteractive('df-1f74c26f-cba7-4eb8-9a1e-e10323977174')\"\n",
              "            title=\"Convert this dataframe to an interactive table.\"\n",
              "            style=\"display:none;\">\n",
              "\n",
              "  <svg xmlns=\"http://www.w3.org/2000/svg\" height=\"24px\" viewBox=\"0 -960 960 960\">\n",
              "    <path d=\"M120-120v-720h720v720H120Zm60-500h600v-160H180v160Zm220 220h160v-160H400v160Zm0 220h160v-160H400v160ZM180-400h160v-160H180v160Zm440 0h160v-160H620v160ZM180-180h160v-160H180v160Zm440 0h160v-160H620v160Z\"/>\n",
              "  </svg>\n",
              "    </button>\n",
              "\n",
              "  <style>\n",
              "    .colab-df-container {\n",
              "      display:flex;\n",
              "      gap: 12px;\n",
              "    }\n",
              "\n",
              "    .colab-df-convert {\n",
              "      background-color: #E8F0FE;\n",
              "      border: none;\n",
              "      border-radius: 50%;\n",
              "      cursor: pointer;\n",
              "      display: none;\n",
              "      fill: #1967D2;\n",
              "      height: 32px;\n",
              "      padding: 0 0 0 0;\n",
              "      width: 32px;\n",
              "    }\n",
              "\n",
              "    .colab-df-convert:hover {\n",
              "      background-color: #E2EBFA;\n",
              "      box-shadow: 0px 1px 2px rgba(60, 64, 67, 0.3), 0px 1px 3px 1px rgba(60, 64, 67, 0.15);\n",
              "      fill: #174EA6;\n",
              "    }\n",
              "\n",
              "    .colab-df-buttons div {\n",
              "      margin-bottom: 4px;\n",
              "    }\n",
              "\n",
              "    [theme=dark] .colab-df-convert {\n",
              "      background-color: #3B4455;\n",
              "      fill: #D2E3FC;\n",
              "    }\n",
              "\n",
              "    [theme=dark] .colab-df-convert:hover {\n",
              "      background-color: #434B5C;\n",
              "      box-shadow: 0px 1px 3px 1px rgba(0, 0, 0, 0.15);\n",
              "      filter: drop-shadow(0px 1px 2px rgba(0, 0, 0, 0.3));\n",
              "      fill: #FFFFFF;\n",
              "    }\n",
              "  </style>\n",
              "\n",
              "    <script>\n",
              "      const buttonEl =\n",
              "        document.querySelector('#df-1f74c26f-cba7-4eb8-9a1e-e10323977174 button.colab-df-convert');\n",
              "      buttonEl.style.display =\n",
              "        google.colab.kernel.accessAllowed ? 'block' : 'none';\n",
              "\n",
              "      async function convertToInteractive(key) {\n",
              "        const element = document.querySelector('#df-1f74c26f-cba7-4eb8-9a1e-e10323977174');\n",
              "        const dataTable =\n",
              "          await google.colab.kernel.invokeFunction('convertToInteractive',\n",
              "                                                    [key], {});\n",
              "        if (!dataTable) return;\n",
              "\n",
              "        const docLinkHtml = 'Like what you see? Visit the ' +\n",
              "          '<a target=\"_blank\" href=https://colab.research.google.com/notebooks/data_table.ipynb>data table notebook</a>'\n",
              "          + ' to learn more about interactive tables.';\n",
              "        element.innerHTML = '';\n",
              "        dataTable['output_type'] = 'display_data';\n",
              "        await google.colab.output.renderOutput(dataTable, element);\n",
              "        const docLink = document.createElement('div');\n",
              "        docLink.innerHTML = docLinkHtml;\n",
              "        element.appendChild(docLink);\n",
              "      }\n",
              "    </script>\n",
              "  </div>\n",
              "\n",
              "    </div>\n",
              "  </div>\n"
            ],
            "application/vnd.google.colaboratory.intrinsic+json": {
              "type": "dataframe",
              "summary": "{\n  \"name\": \"metrics_df\",\n  \"rows\": 1,\n  \"fields\": [\n    {\n      \"column\": \"statistical parity difference\",\n      \"properties\": {\n        \"dtype\": \"number\",\n        \"std\": NaN,\n        \"min\": 0.07929292929292928,\n        \"max\": 0.07929292929292928,\n        \"samples\": [\n          0.07929292929292928\n        ],\n        \"num_unique_values\": 1,\n        \"semantic_type\": \"\",\n        \"description\": \"\"\n      }\n    },\n    {\n      \"column\": \"disparate impact\",\n      \"properties\": {\n        \"dtype\": \"number\",\n        \"std\": NaN,\n        \"min\": 1.331923890063425,\n        \"max\": 1.331923890063425,\n        \"samples\": [\n          1.331923890063425\n        ],\n        \"num_unique_values\": 1,\n        \"semantic_type\": \"\",\n        \"description\": \"\"\n      }\n    },\n    {\n      \"column\": \"equal opportunity difference\",\n      \"properties\": {\n        \"dtype\": \"number\",\n        \"std\": NaN,\n        \"min\": 0.01976284584980237,\n        \"max\": 0.01976284584980237,\n        \"samples\": [\n          0.01976284584980237\n        ],\n        \"num_unique_values\": 1,\n        \"semantic_type\": \"\",\n        \"description\": \"\"\n      }\n    },\n    {\n      \"column\": \"average absolute odds difference\",\n      \"properties\": {\n        \"dtype\": \"number\",\n        \"std\": NaN,\n        \"min\": 0.05090467873885468,\n        \"max\": 0.05090467873885468,\n        \"samples\": [\n          0.05090467873885468\n        ],\n        \"num_unique_values\": 1,\n        \"semantic_type\": \"\",\n        \"description\": \"\"\n      }\n    }\n  ]\n}"
            }
          },
          "metadata": {},
          "execution_count": 182
        }
      ],
      "source": [
        "y_hat_test = loan_model.predict(X_test)\n",
        "\n",
        "# create table from multiple dictionaries\n",
        "m = compute_metrics('Age<=40', y_hat_test, X_test, y_test, 1, 0)\n",
        "y_hat = loan_model.predict(X)\n",
        "m['age_range'] = 'Age<=40'\n",
        "metrics_df = pd.DataFrame([m])\n",
        "metrics_df.set_index('age_range')"
      ]
    },
    {
      "cell_type": "markdown",
      "source": [
        "## Section 4a (continued): Thresholds\n"
      ],
      "metadata": {
        "id": "q-iJ7pR3tAyj"
      }
    },
    {
      "cell_type": "markdown",
      "source": [
        "In Logistic Regression, we can pick to threshold to decide above which value. We will consider as positive label 1 and which value we will consider as 0.\n",
        "\n",
        "One way to balance between fairness and accuracy is to change the threshold. Here you will iterate through 0.01 and 0.99 to search for a suitable threshold for classification."
      ],
      "metadata": {
        "id": "nn-Fcp3LrkHk"
      }
    },
    {
      "cell_type": "code",
      "source": [
        "from IPython.display import Markdown, display\n",
        "from sklearn.metrics import accuracy_score\n",
        "def search_threshold(sensitive_attribute, dataset, pred_proba, true_labels, unprivileged_groups, privileged_groups):\n",
        "    \"\"\"\n",
        "    Search for the optimal threshold for making predictions based on a sensitive attribute in a given dataset.\n",
        "\n",
        "    Parameters:\n",
        "    - sensitive_attribute: The sensitive attribute to be considered for fairness evaluation.\n",
        "    - dataset: The dataset containing features and labels.\n",
        "    - pred_proba: Predicted probabilities for the positive class.\n",
        "    - true_labels: True labels of the dataset.\n",
        "    - unprivileged_groups: Definition of unprivileged groups in the dataset.\n",
        "    - privileged_groups: Definition of privileged groups in the dataset.\n",
        "\n",
        "    Returns:\n",
        "    - acc_arr_orig: list containing accuracy values for each threshold.\n",
        "    - spd_arr_orig: list containing statistical parity difference values for each threshold.\n",
        "    - disp_imp_arr_orig: list containing disparate impact values for each threshold.\n",
        "    - eod_arr_orig: list containing equal opportunity difference values for each threshold.\n",
        "    - aaod_arr_orig: list containing average odds difference values for each threshold.\n",
        "    \"\"\"\n",
        "\n",
        "    display(Markdown(\"#### Predictions from original testing data\"))\n",
        "\n",
        "    data = dataset.copy()\n",
        "\n",
        "    acc_arr_orig = []\n",
        "    spd_arr_orig = []\n",
        "    disp_imp_arr_orig = []\n",
        "    eod_arr_orig = []\n",
        "    aaod_arr_orig = []\n",
        "    class_thresh_arr = np.linspace(0.01, 0.99, 100)\n",
        "\n",
        "    ### TODO: search through the class_thresh_arr and fill in the\n",
        "    ### array of accuracy and metrics for each threshold using compute_metrics\n",
        "    for thres in class_thresh_arr:\n",
        "        positive_proba = pred_proba[:, 1]\n",
        "        predictions = (positive_proba >= thres).astype(int)\n",
        "        accuracy = accuracy_score(true_labels, predictions)\n",
        "        acc_arr_orig.append(accuracy)\n",
        "        metrics = compute_metrics(sensitive_attribute, predictions, dataset, true_labels, unprivileged_groups, privileged_groups, disp=True)\n",
        "        spd_arr_orig.append(metrics['statistical parity difference'])\n",
        "        disp_imp_arr_orig.append(metrics['disparate impact'])\n",
        "        eod_arr_orig.append(metrics['equal opportunity difference'])\n",
        "        aaod_arr_orig.append(metrics['average absolute odds difference'])\n",
        "\n",
        "   ### return an array of accuracy and metrics with compute_metrics for the threshold\n",
        "    return acc_arr_orig, spd_arr_orig, disp_imp_arr_orig, eod_arr_orig, aaod_arr_orig"
      ],
      "metadata": {
        "id": "9YqqJL7iiwFd"
      },
      "execution_count": 183,
      "outputs": []
    },
    {
      "cell_type": "code",
      "source": [
        "def plot_trade(class_thresh_arr, model_acc, spd_arr_orig, disp_imp_arr_orig, eod_arr_orig, aaod_arr_orig):\n",
        "    fig, ax1 = plt.subplots(figsize=(10,7))\n",
        "\n",
        "    # Plotting on the left y-axis\n",
        "    ax1.set_xlabel('Classification Thresholds', fontsize=16, fontweight='bold')\n",
        "    ax1.set_ylabel('Fairness Metrics & Accuracy', color='b', fontsize=16, fontweight='bold')\n",
        "    ax1.xaxis.set_tick_params(labelsize=14)\n",
        "    ax1.yaxis.set_tick_params(labelsize=14)\n",
        "\n",
        "    # Plotting on the left y-axis\n",
        "    ax1.plot(class_thresh_arr, model_acc, label='Accuracy')\n",
        "    ax1.plot(class_thresh_arr, spd_arr_orig, label='SPD', color='r')\n",
        "    ax1.plot(class_thresh_arr, disp_imp_arr_orig, label='DI', color='b')\n",
        "    ax1.plot(class_thresh_arr, eod_arr_orig, label='EOD', color='g')\n",
        "    ax1.plot(class_thresh_arr, aaod_arr_orig, label='AAOD', color='y')\n",
        "\n",
        "    # Adding legend\n",
        "    ax1.legend(loc='upper left', fontsize=12)\n",
        "\n",
        "    # Creating a second y-axis (ax2) on the right side\n",
        "    ax2 = ax1.twinx()\n",
        "\n",
        "    # Remove y labels on the right side\n",
        "    ax2.set_yticklabels([])\n",
        "\n",
        "    # Grid for the right y-axis\n",
        "    ax2.grid(True)\n",
        "\n",
        "    plt.show()"
      ],
      "metadata": {
        "id": "4iLHp3Ocy-fR"
      },
      "execution_count": 184,
      "outputs": []
    },
    {
      "cell_type": "markdown",
      "source": [
        "We now use our search_threshold() function to search through the potential thresholds and calculate the fairness metrics for each threshold value."
      ],
      "metadata": {
        "id": "YVZ-QTd48B6i"
      }
    },
    {
      "cell_type": "code",
      "source": [
        "y_hat_proba_test = loan_model.predict_proba(X_test)\n",
        "\n",
        "\n",
        "acc_arr_orig, spd_arr_orig, disp_imp_arr_orig, eod_arr_orig, aaod_arr_orig = search_threshold('Age<=40', X_test,\n",
        "                                                                               y_hat_proba_test,\n",
        "                                                                               y_test,\n",
        "                                                                               0,\n",
        "                                                                               1)\n",
        "\n",
        "\n",
        "plot_trade(np.linspace(0.01, 0.99, 100), acc_arr_orig, spd_arr_orig, disp_imp_arr_orig, eod_arr_orig, aaod_arr_orig)"
      ],
      "metadata": {
        "id": "xjuqdBaQi0AC",
        "colab": {
          "base_uri": "https://localhost:8080/",
          "height": 7917
        },
        "outputId": "6484ffe9-e4b5-4aa6-dfab-49db10933edb"
      },
      "execution_count": 185,
      "outputs": [
        {
          "output_type": "display_data",
          "data": {
            "text/plain": [
              "<IPython.core.display.Markdown object>"
            ],
            "text/markdown": "#### Predictions from original testing data"
          },
          "metadata": {}
        },
        {
          "output_type": "stream",
          "name": "stdout",
          "text": [
            "statistical parity difference = 0.0000\n",
            "disparate impact = nan\n",
            "equal opportunity difference = 0.0000\n",
            "average absolute odds difference = 0.0000\n"
          ]
        },
        {
          "output_type": "stream",
          "name": "stderr",
          "text": [
            "<ipython-input-173-08b628bd4732>:20: RuntimeWarning: invalid value encountered in scalar divide\n",
            "  di_val=p_above/p_below\n",
            "<ipython-input-173-08b628bd4732>:20: RuntimeWarning: invalid value encountered in scalar divide\n",
            "  di_val=p_above/p_below\n",
            "<ipython-input-173-08b628bd4732>:20: RuntimeWarning: invalid value encountered in scalar divide\n",
            "  di_val=p_above/p_below\n",
            "<ipython-input-173-08b628bd4732>:20: RuntimeWarning: invalid value encountered in scalar divide\n",
            "  di_val=p_above/p_below\n",
            "<ipython-input-173-08b628bd4732>:20: RuntimeWarning: invalid value encountered in scalar divide\n",
            "  di_val=p_above/p_below\n",
            "<ipython-input-173-08b628bd4732>:20: RuntimeWarning: invalid value encountered in scalar divide\n",
            "  di_val=p_above/p_below\n",
            "<ipython-input-173-08b628bd4732>:20: RuntimeWarning: invalid value encountered in scalar divide\n",
            "  di_val=p_above/p_below\n",
            "<ipython-input-173-08b628bd4732>:20: RuntimeWarning: invalid value encountered in scalar divide\n",
            "  di_val=p_above/p_below\n",
            "<ipython-input-173-08b628bd4732>:20: RuntimeWarning: invalid value encountered in scalar divide\n",
            "  di_val=p_above/p_below\n",
            "<ipython-input-173-08b628bd4732>:20: RuntimeWarning: invalid value encountered in scalar divide\n",
            "  di_val=p_above/p_below\n"
          ]
        },
        {
          "output_type": "stream",
          "name": "stdout",
          "text": [
            "statistical parity difference = 0.0000\n",
            "disparate impact = nan\n",
            "equal opportunity difference = 0.0000\n",
            "average absolute odds difference = 0.0000\n",
            "statistical parity difference = 0.0000\n",
            "disparate impact = nan\n",
            "equal opportunity difference = 0.0000\n",
            "average absolute odds difference = 0.0000\n",
            "statistical parity difference = 0.0000\n",
            "disparate impact = nan\n",
            "equal opportunity difference = 0.0000\n",
            "average absolute odds difference = 0.0000\n",
            "statistical parity difference = 0.0000\n",
            "disparate impact = nan\n",
            "equal opportunity difference = 0.0000\n",
            "average absolute odds difference = 0.0000\n",
            "statistical parity difference = 0.0000\n",
            "disparate impact = nan\n",
            "equal opportunity difference = 0.0000\n",
            "average absolute odds difference = 0.0000\n",
            "statistical parity difference = 0.0000\n",
            "disparate impact = nan\n",
            "equal opportunity difference = 0.0000\n",
            "average absolute odds difference = 0.0000\n",
            "statistical parity difference = 0.0000\n",
            "disparate impact = nan\n",
            "equal opportunity difference = 0.0000\n",
            "average absolute odds difference = 0.0000\n",
            "statistical parity difference = 0.0000\n",
            "disparate impact = nan\n",
            "equal opportunity difference = 0.0000\n",
            "average absolute odds difference = 0.0000\n",
            "statistical parity difference = 0.0000\n",
            "disparate impact = nan\n",
            "equal opportunity difference = 0.0000\n",
            "average absolute odds difference = 0.0000\n",
            "statistical parity difference = 0.0000\n",
            "disparate impact = nan\n",
            "equal opportunity difference = 0.0000\n",
            "average absolute odds difference = 0.0000\n",
            "statistical parity difference = 0.0000\n",
            "disparate impact = nan\n",
            "equal opportunity difference = 0.0000\n",
            "average absolute odds difference = 0.0000\n"
          ]
        },
        {
          "output_type": "stream",
          "name": "stderr",
          "text": [
            "<ipython-input-173-08b628bd4732>:20: RuntimeWarning: invalid value encountered in scalar divide\n",
            "  di_val=p_above/p_below\n",
            "<ipython-input-173-08b628bd4732>:20: RuntimeWarning: invalid value encountered in scalar divide\n",
            "  di_val=p_above/p_below\n",
            "<ipython-input-173-08b628bd4732>:20: RuntimeWarning: invalid value encountered in scalar divide\n",
            "  di_val=p_above/p_below\n"
          ]
        },
        {
          "output_type": "stream",
          "name": "stdout",
          "text": [
            "statistical parity difference = 0.0000\n",
            "disparate impact = nan\n",
            "equal opportunity difference = 0.0000\n",
            "average absolute odds difference = 0.0000\n",
            "statistical parity difference = -0.0152\n",
            "disparate impact = 0.0000\n",
            "equal opportunity difference = -0.0435\n",
            "average absolute odds difference = 0.0217\n",
            "statistical parity difference = -0.0152\n",
            "disparate impact = 0.0000\n",
            "equal opportunity difference = -0.0435\n",
            "average absolute odds difference = 0.0217\n",
            "statistical parity difference = -0.0303\n",
            "disparate impact = 0.0000\n",
            "equal opportunity difference = -0.0870\n",
            "average absolute odds difference = 0.0435\n",
            "statistical parity difference = -0.0303\n",
            "disparate impact = 0.0000\n",
            "equal opportunity difference = -0.0870\n",
            "average absolute odds difference = 0.0435\n",
            "statistical parity difference = -0.0303\n",
            "disparate impact = 0.0000\n",
            "equal opportunity difference = -0.0870\n",
            "average absolute odds difference = 0.0435\n",
            "statistical parity difference = -0.0303\n",
            "disparate impact = 0.0000\n",
            "equal opportunity difference = -0.0870\n",
            "average absolute odds difference = 0.0435\n",
            "statistical parity difference = -0.0303\n",
            "disparate impact = 0.0000\n",
            "equal opportunity difference = -0.0870\n",
            "average absolute odds difference = 0.0435\n",
            "statistical parity difference = -0.0399\n",
            "disparate impact = 0.1222\n",
            "equal opportunity difference = -0.0688\n",
            "average absolute odds difference = 0.0460\n",
            "statistical parity difference = -0.0399\n",
            "disparate impact = 0.1222\n",
            "equal opportunity difference = -0.0688\n",
            "average absolute odds difference = 0.0460\n",
            "statistical parity difference = -0.0343\n",
            "disparate impact = 0.2444\n",
            "equal opportunity difference = -0.0506\n",
            "average absolute odds difference = 0.0369\n",
            "statistical parity difference = -0.0343\n",
            "disparate impact = 0.2444\n",
            "equal opportunity difference = -0.0506\n",
            "average absolute odds difference = 0.0369\n",
            "statistical parity difference = -0.0288\n",
            "disparate impact = 0.3667\n",
            "equal opportunity difference = -0.0324\n",
            "average absolute odds difference = 0.0278\n",
            "statistical parity difference = -0.0288\n",
            "disparate impact = 0.3667\n",
            "equal opportunity difference = -0.0324\n",
            "average absolute odds difference = 0.0278\n",
            "statistical parity difference = -0.0288\n",
            "disparate impact = 0.3667\n",
            "equal opportunity difference = -0.0324\n",
            "average absolute odds difference = 0.0278\n",
            "statistical parity difference = -0.0162\n",
            "disparate impact = 0.7333\n",
            "equal opportunity difference = -0.0032\n",
            "average absolute odds difference = 0.0092\n",
            "statistical parity difference = -0.0409\n",
            "disparate impact = 0.5500\n",
            "equal opportunity difference = -0.0719\n",
            "average absolute odds difference = 0.0436\n",
            "statistical parity difference = -0.0409\n",
            "disparate impact = 0.5500\n",
            "equal opportunity difference = -0.0719\n",
            "average absolute odds difference = 0.0436\n",
            "statistical parity difference = -0.0354\n",
            "disparate impact = 0.6111\n",
            "equal opportunity difference = -0.0719\n",
            "average absolute odds difference = 0.0396\n",
            "statistical parity difference = -0.0242\n",
            "disparate impact = 0.7333\n",
            "equal opportunity difference = -0.0356\n",
            "average absolute odds difference = 0.0214\n",
            "statistical parity difference = -0.0187\n",
            "disparate impact = 0.7944\n",
            "equal opportunity difference = -0.0356\n",
            "average absolute odds difference = 0.0182\n",
            "statistical parity difference = -0.0323\n",
            "disparate impact = 0.7333\n",
            "equal opportunity difference = -0.1043\n",
            "average absolute odds difference = 0.0605\n",
            "statistical parity difference = -0.0323\n",
            "disparate impact = 0.7333\n",
            "equal opportunity difference = -0.1043\n",
            "average absolute odds difference = 0.0605\n",
            "statistical parity difference = -0.0323\n",
            "disparate impact = 0.7333\n",
            "equal opportunity difference = -0.1043\n",
            "average absolute odds difference = 0.0605\n",
            "statistical parity difference = -0.0212\n",
            "disparate impact = 0.8250\n",
            "equal opportunity difference = -0.0680\n",
            "average absolute odds difference = 0.0424\n",
            "statistical parity difference = -0.0157\n",
            "disparate impact = 0.8708\n",
            "equal opportunity difference = -0.0498\n",
            "average absolute odds difference = 0.0333\n",
            "statistical parity difference = -0.0101\n",
            "disparate impact = 0.9167\n",
            "equal opportunity difference = -0.0316\n",
            "average absolute odds difference = 0.0242\n",
            "statistical parity difference = 0.0010\n",
            "disparate impact = 1.0083\n",
            "equal opportunity difference = 0.0047\n",
            "average absolute odds difference = 0.0107\n",
            "statistical parity difference = -0.0677\n",
            "disparate impact = 0.6810\n",
            "equal opportunity difference = -0.0893\n",
            "average absolute odds difference = 0.0632\n",
            "statistical parity difference = -0.0621\n",
            "disparate impact = 0.7071\n",
            "equal opportunity difference = -0.0711\n",
            "average absolute odds difference = 0.0541\n",
            "statistical parity difference = -0.0662\n",
            "disparate impact = 0.7089\n",
            "equal opportunity difference = -0.0348\n",
            "average absolute odds difference = 0.0475\n",
            "statistical parity difference = -0.0702\n",
            "disparate impact = 0.7104\n",
            "equal opportunity difference = -0.0601\n",
            "average absolute odds difference = 0.0562\n",
            "statistical parity difference = -0.0646\n",
            "disparate impact = 0.7333\n",
            "equal opportunity difference = -0.0419\n",
            "average absolute odds difference = 0.0471\n",
            "statistical parity difference = -0.0631\n",
            "disparate impact = 0.7549\n",
            "equal opportunity difference = 0.0126\n",
            "average absolute odds difference = 0.0441\n",
            "statistical parity difference = -0.0783\n",
            "disparate impact = 0.7130\n",
            "equal opportunity difference = 0.0126\n",
            "average absolute odds difference = 0.0557\n",
            "statistical parity difference = -0.0505\n",
            "disparate impact = 0.8148\n",
            "equal opportunity difference = 0.0490\n",
            "average absolute odds difference = 0.0619\n",
            "statistical parity difference = -0.0505\n",
            "disparate impact = 0.8148\n",
            "equal opportunity difference = 0.0490\n",
            "average absolute odds difference = 0.0619\n",
            "statistical parity difference = -0.0904\n",
            "disparate impact = 0.7159\n",
            "equal opportunity difference = -0.0379\n",
            "average absolute odds difference = 0.0640\n",
            "statistical parity difference = -0.0737\n",
            "disparate impact = 0.7683\n",
            "equal opportunity difference = -0.0016\n",
            "average absolute odds difference = 0.0418\n",
            "statistical parity difference = -0.0929\n",
            "disparate impact = 0.7333\n",
            "equal opportunity difference = -0.0704\n",
            "average absolute odds difference = 0.0722\n",
            "statistical parity difference = -0.1177\n",
            "disparate impact = 0.6893\n",
            "equal opportunity difference = -0.1138\n",
            "average absolute odds difference = 0.1016\n",
            "statistical parity difference = -0.1010\n",
            "disparate impact = 0.7333\n",
            "equal opportunity difference = -0.0775\n",
            "average absolute odds difference = 0.0794\n",
            "statistical parity difference = -0.0955\n",
            "disparate impact = 0.7480\n",
            "equal opportunity difference = -0.0775\n",
            "average absolute odds difference = 0.0754\n",
            "statistical parity difference = -0.1283\n",
            "disparate impact = 0.7080\n",
            "equal opportunity difference = -0.1281\n",
            "average absolute odds difference = 0.1119\n",
            "statistical parity difference = -0.1323\n",
            "disparate impact = 0.7089\n",
            "equal opportunity difference = -0.1715\n",
            "average absolute odds difference = 0.1257\n",
            "statistical parity difference = -0.1268\n",
            "disparate impact = 0.7211\n",
            "equal opportunity difference = -0.1715\n",
            "average absolute odds difference = 0.1217\n",
            "statistical parity difference = -0.1157\n",
            "disparate impact = 0.7456\n",
            "equal opportunity difference = -0.1534\n",
            "average absolute odds difference = 0.1086\n",
            "statistical parity difference = -0.1045\n",
            "disparate impact = 0.7700\n",
            "equal opportunity difference = -0.1352\n",
            "average absolute odds difference = 0.0955\n",
            "statistical parity difference = -0.0990\n",
            "disparate impact = 0.7822\n",
            "equal opportunity difference = -0.1170\n",
            "average absolute odds difference = 0.0864\n",
            "statistical parity difference = -0.0712\n",
            "disparate impact = 0.8433\n",
            "equal opportunity difference = -0.0806\n",
            "average absolute odds difference = 0.0562\n",
            "statistical parity difference = -0.0657\n",
            "disparate impact = 0.8556\n",
            "equal opportunity difference = -0.0806\n",
            "average absolute odds difference = 0.0522\n",
            "statistical parity difference = -0.0808\n",
            "disparate impact = 0.8280\n",
            "equal opportunity difference = -0.1241\n",
            "average absolute odds difference = 0.0740\n",
            "statistical parity difference = -0.0808\n",
            "disparate impact = 0.8280\n",
            "equal opportunity difference = -0.1241\n",
            "average absolute odds difference = 0.0740\n",
            "statistical parity difference = -0.0808\n",
            "disparate impact = 0.8280\n",
            "equal opportunity difference = -0.1241\n",
            "average absolute odds difference = 0.0740\n",
            "statistical parity difference = -0.0848\n",
            "disparate impact = 0.8250\n",
            "equal opportunity difference = -0.1059\n",
            "average absolute odds difference = 0.0725\n",
            "statistical parity difference = -0.0626\n",
            "disparate impact = 0.8708\n",
            "equal opportunity difference = -0.1059\n",
            "average absolute odds difference = 0.0565\n",
            "statistical parity difference = -0.0556\n",
            "disparate impact = 0.8889\n",
            "equal opportunity difference = -0.1059\n",
            "average absolute odds difference = 0.0538\n",
            "statistical parity difference = -0.0389\n",
            "disparate impact = 0.9222\n",
            "equal opportunity difference = -0.0877\n",
            "average absolute odds difference = 0.0527\n",
            "statistical parity difference = -0.0540\n",
            "disparate impact = 0.8951\n",
            "equal opportunity difference = -0.0877\n",
            "average absolute odds difference = 0.0467\n",
            "statistical parity difference = -0.0429\n",
            "disparate impact = 0.9167\n",
            "equal opportunity difference = -0.0696\n",
            "average absolute odds difference = 0.0360\n",
            "statistical parity difference = -0.0374\n",
            "disparate impact = 0.9275\n",
            "equal opportunity difference = -0.0514\n",
            "average absolute odds difference = 0.0269\n",
            "statistical parity difference = -0.0207\n",
            "disparate impact = 0.9598\n",
            "equal opportunity difference = -0.0514\n",
            "average absolute odds difference = 0.0389\n",
            "statistical parity difference = 0.0237\n",
            "disparate impact = 1.0461\n",
            "equal opportunity difference = -0.0150\n",
            "average absolute odds difference = 0.0447\n",
            "statistical parity difference = 0.0141\n",
            "disparate impact = 1.0267\n",
            "equal opportunity difference = 0.0032\n",
            "average absolute odds difference = 0.0272\n",
            "statistical parity difference = 0.0141\n",
            "disparate impact = 1.0267\n",
            "equal opportunity difference = 0.0032\n",
            "average absolute odds difference = 0.0272\n",
            "statistical parity difference = 0.0197\n",
            "disparate impact = 1.0371\n",
            "equal opportunity difference = 0.0032\n",
            "average absolute odds difference = 0.0312\n",
            "statistical parity difference = 0.0227\n",
            "disparate impact = 1.0405\n",
            "equal opportunity difference = 0.0213\n",
            "average absolute odds difference = 0.0370\n",
            "statistical parity difference = -0.0020\n",
            "disparate impact = 0.9966\n",
            "equal opportunity difference = 0.0213\n",
            "average absolute odds difference = 0.0177\n",
            "statistical parity difference = 0.0035\n",
            "disparate impact = 1.0060\n",
            "equal opportunity difference = 0.0213\n",
            "average absolute odds difference = 0.0217\n",
            "statistical parity difference = -0.0268\n",
            "disparate impact = 0.9569\n",
            "equal opportunity difference = 0.0213\n",
            "average absolute odds difference = 0.0229\n",
            "statistical parity difference = -0.0101\n",
            "disparate impact = 0.9837\n",
            "equal opportunity difference = 0.0213\n",
            "average absolute odds difference = 0.0109\n",
            "statistical parity difference = 0.0232\n",
            "disparate impact = 1.0374\n",
            "equal opportunity difference = 0.0395\n",
            "average absolute odds difference = 0.0396\n",
            "statistical parity difference = 0.0343\n",
            "disparate impact = 1.0553\n",
            "equal opportunity difference = 0.0395\n",
            "average absolute odds difference = 0.0476\n",
            "statistical parity difference = -0.0056\n",
            "disparate impact = 0.9917\n",
            "equal opportunity difference = -0.0040\n",
            "average absolute odds difference = 0.0105\n",
            "statistical parity difference = -0.0081\n",
            "disparate impact = 0.9884\n",
            "equal opportunity difference = -0.0040\n",
            "average absolute odds difference = 0.0073\n",
            "statistical parity difference = -0.0258\n",
            "disparate impact = 0.9653\n",
            "equal opportunity difference = 0.0506\n",
            "average absolute odds difference = 0.0469\n",
            "statistical parity difference = -0.0091\n",
            "disparate impact = 0.9878\n",
            "equal opportunity difference = 0.0506\n",
            "average absolute odds difference = 0.0349\n",
            "statistical parity difference = 0.0187\n",
            "disparate impact = 1.0252\n",
            "equal opportunity difference = 0.0688\n",
            "average absolute odds difference = 0.0408\n",
            "statistical parity difference = -0.0061\n",
            "disparate impact = 0.9922\n",
            "equal opportunity difference = 0.0253\n",
            "average absolute odds difference = 0.0139\n",
            "statistical parity difference = -0.0157\n",
            "disparate impact = 0.9801\n",
            "equal opportunity difference = 0.0253\n",
            "average absolute odds difference = 0.0215\n",
            "statistical parity difference = -0.0237\n",
            "disparate impact = 0.9710\n",
            "equal opportunity difference = 0.0253\n",
            "average absolute odds difference = 0.0287\n",
            "statistical parity difference = -0.0278\n",
            "disparate impact = 0.9667\n",
            "equal opportunity difference = 0.0000\n",
            "average absolute odds difference = 0.0121\n",
            "statistical parity difference = -0.0318\n",
            "disparate impact = 0.9625\n",
            "equal opportunity difference = 0.0000\n",
            "average absolute odds difference = 0.0157\n",
            "statistical parity difference = -0.0263\n",
            "disparate impact = 0.9690\n",
            "equal opportunity difference = 0.0000\n",
            "average absolute odds difference = 0.0117\n",
            "statistical parity difference = -0.0192\n",
            "disparate impact = 0.9778\n",
            "equal opportunity difference = 0.0000\n",
            "average absolute odds difference = 0.0073\n",
            "statistical parity difference = -0.0066\n",
            "disparate impact = 0.9925\n",
            "equal opportunity difference = 0.0000\n",
            "average absolute odds difference = 0.0010\n",
            "statistical parity difference = 0.0187\n",
            "disparate impact = 1.0206\n",
            "equal opportunity difference = 0.0000\n",
            "average absolute odds difference = 0.0178\n",
            "statistical parity difference = 0.0202\n",
            "disparate impact = 1.0219\n",
            "equal opportunity difference = 0.0000\n",
            "average absolute odds difference = 0.0181\n"
          ]
        },
        {
          "output_type": "display_data",
          "data": {
            "text/plain": [
              "<Figure size 1000x700 with 2 Axes>"
            ],
            "image/png": "[encoded data removed]"
          },
          "metadata": {}
        }
      ]
    },
    {
      "cell_type": "markdown",
      "source": [
        "### Interpretation\n",
        "\n",
        "Q: How do the fairness metrics and accuracy relate? Why? Choose the fairness metric that's the most important to this specific case study. How would you go about maximizing for both accuracy and the fairness metric? (4-6 sentences)\n"
      ],
      "metadata": {
        "id": "NQCi4xWu1jkI"
      }
    },
    {
      "cell_type": "markdown",
      "source": [
        "**Solution**\n",
        "\n",
        "\n",
        "\n",
        "\n",
        "\n",
        "(简答题）"
      ],
      "metadata": {
        "id": "Ikoazm7wwqZx"
      }
    },
    {
      "cell_type": "markdown",
      "source": [
        "Q: Explore this [loan simulation case study](https://research.google.com/bigpicture/attacking-discrimination-in-ml/) which also deals with thresholding. Play with different thresholds and see what happens. In this case, how would you go about maximizing for both profit and fairness, and what threshold would you choose as a result of that approach? (4-6 sentences)"
      ],
      "metadata": {
        "id": "afeQARdOALEM"
      }
    },
    {
      "cell_type": "markdown",
      "source": [
        "**Solution**\n",
        "\n",
        "\n",
        "\n",
        "(简答题）"
      ],
      "metadata": {
        "id": "2Jlc9cOnwuT6"
      }
    },
    {
      "cell_type": "markdown",
      "source": [
        "## Section 4b: Resampling"
      ],
      "metadata": {
        "id": "PZpLblBx5wl7"
      }
    },
    {
      "cell_type": "markdown",
      "source": [
        "In this section, we want you to retrain the model using inputs that have a different ratio of elements in demographic groups and then see how the fairness measures change if at all. For instace, you could modify the frequency at which different groups appear in the training set."
      ],
      "metadata": {
        "id": "a3GqQJQ95wl9"
      }
    },
    {
      "cell_type": "markdown",
      "source": [
        "We revisit the public health coverage dataset for the remaining parts of the assignment."
      ],
      "metadata": {
        "id": "cgXMUtJL6iJL"
      }
    },
    {
      "cell_type": "code",
      "source": [
        "from folktables import ACSDataSource, ACSPublicCoverage\n",
        "from sklearn.pipeline import make_pipeline\n",
        "from sklearn.linear_model import LogisticRegression\n",
        "\n",
        "# import data source form ACS\n",
        "data_source = ACSDataSource(survey_year='2018', horizon='1-Year', survey='person')\n",
        "acs_data = data_source.get_data(states=[\"CA\"], download=True)\n",
        "prediction_task = ACSPublicCoverage\n",
        "\n",
        "# gather columns defined in the ACSPublicCoverage prediction task\n",
        "features, label, group = prediction_task.df_to_numpy(acs_data)\n",
        "\n",
        "# aggregate features and target variable into the same dataframe\n",
        "acs_public_coverage_data = acs_data[prediction_task.features\n",
        "                               + [prediction_task.target]]\n",
        "\n",
        "###### Data summary ######\n",
        "print(acs_public_coverage_data.head())\n",
        "print(\"features used for predictions: \"   + str(prediction_task.features))\n",
        "print(\"group membership variable: \"       + str(prediction_task.group))\n",
        "print(\"the target variable of interest: \" + str(prediction_task.target))\n",
        "\n",
        "# split the data into training and testing sets\n",
        "X_train, X_test, y_train, y_test, group_train, group_test = train_test_split(\n",
        "    features, label, group, test_size=0.2, random_state=0)\n",
        "model = train(X_train, y_train)\n",
        "yhat = model.predict(X_test)"
      ],
      "metadata": {
        "id": "F6bZ7TiN6mLC",
        "colab": {
          "base_uri": "https://localhost:8080/",
          "height": 0
        },
        "outputId": "f5faf4dc-0240-46f7-bbea-cbd64e7aad28"
      },
      "execution_count": 186,
      "outputs": [
        {
          "output_type": "stream",
          "name": "stdout",
          "text": [
            "   AGEP  SCHL  MAR  SEX  DIS  ESP  CIT  MIG  MIL  ANC  NATIVITY  DEAR  DEYE  \\\n",
            "0    30  14.0    1    1    2  NaN    1  3.0  4.0    1         1     2     2   \n",
            "1    18  14.0    5    2    2  NaN    1  1.0  4.0    1         1     2     2   \n",
            "2    69  17.0    1    1    1  NaN    1  1.0  2.0    2         1     2     2   \n",
            "3    25   1.0    5    1    1  NaN    1  1.0  4.0    1         1     1     2   \n",
            "4    31  18.0    5    2    2  NaN    1  1.0  4.0    1         1     2     2   \n",
            "\n",
            "   DREM    PINCP  ESR  ST  FER  RAC1P  PUBCOV  \n",
            "0   2.0  48500.0  6.0   6  NaN      8       1  \n",
            "1   2.0      0.0  6.0   6  2.0      1       2  \n",
            "2   2.0  13100.0  6.0   6  NaN      9       1  \n",
            "3   1.0      0.0  6.0   6  NaN      1       1  \n",
            "4   2.0      0.0  6.0   6  2.0      1       1  \n",
            "features used for predictions: ['AGEP', 'SCHL', 'MAR', 'SEX', 'DIS', 'ESP', 'CIT', 'MIG', 'MIL', 'ANC', 'NATIVITY', 'DEAR', 'DEYE', 'DREM', 'PINCP', 'ESR', 'ST', 'FER', 'RAC1P']\n",
            "group membership variable: RAC1P\n",
            "the target variable of interest: PUBCOV\n"
          ]
        }
      ]
    },
    {
      "cell_type": "markdown",
      "source": [
        "Several approaches for resampling are detailed in [Kamiran and Kalders 2012, Data preprocessing techniques for classification without discrimination](https://link.springer.com/article/10.1007/s10115-011-0463-8). We recommend implementing the Uniform Sampling method described in Algorithm 4 of the paper, but feel free to use any other viable method. In particular, Section 5.3 details the partitioning of the dataset into various groups of interest. We want to rebalance these groups but keep the total number of data points we train on to remain the same, so some data points will be skipped and others will be duplicated. As such, we must calculate the sample weights according to the formulas described in the paper for these different groups."
      ],
      "metadata": {
        "id": "g7BRMbMF6lFa"
      }
    },
    {
      "cell_type": "code",
      "source": [
        "### Weighting approach ###\n",
        "def compute_sample_weight(y, group):\n",
        "  \"\"\"\n",
        "  Computes sample weights according to the algorithm described in the paper.\n",
        "\n",
        "  Args:\n",
        "    y     (np.ndarray): Training labels.\n",
        "    group (np.ndarray): Array of indices corresponding to group membership.\n",
        "\n",
        "  Returns:\n",
        "    list: sample weight\n",
        "    dict: weight dict\n",
        "  \"\"\"\n",
        "  assert(len(y) == len(group))\n",
        "\n",
        "  # TODO: calculate sample weight\n",
        "\n",
        "  total_samples = len(y)\n",
        "  total_groups = len(np.unique(group))\n",
        "  obs_probs = {}\n",
        "  for g in np.unique(group):\n",
        "      for c in np.unique(y):\n",
        "          obs_probs[(g, c)] = np.sum((group == g) & (y == c)) / total_samples\n",
        "  exp_prob_per_class = 1 / len(np.unique(y))\n",
        "  exp_probs = {(g, c): exp_prob_per_class for g in np.unique(group) for c in np.unique(y)}\n",
        "  weight_dict = {g: 1 / total_groups for g in np.unique(group)}\n",
        "  sample_weight = [exp_probs[(group[i], y[i])] / obs_probs[(group[i], y[i])] for i in range(total_samples)]\n",
        "\n",
        "  return sample_weight, weight_dict\n",
        "\n",
        "# NOTE: We will later use sample_weight in cost-sensitive training\n",
        "#       and weight_dict in uniform sampling\n",
        "sample_weight, weight_dict = compute_sample_weight(y_train, group_train)"
      ],
      "metadata": {
        "id": "Nr1tIbKq5wl9"
      },
      "execution_count": 187,
      "outputs": []
    },
    {
      "cell_type": "markdown",
      "source": [
        "In the Uniform Sampling method, the chance of sampling any given point within a group is uniform. As described in the paper, \"all the data objects of the same group have the same\n",
        "chance of being duplicated or skipped\"."
      ],
      "metadata": {
        "id": "m-UNbJ7S5wl9"
      }
    },
    {
      "cell_type": "code",
      "source": [
        "### Uniform sampling ###\n",
        "def uniform_sampling(X, y, group, weight_dict):\n",
        "  \"\"\"\n",
        "  Perform uniform sampling given a `weight_dict`\n",
        "\n",
        "  Args:\n",
        "    X     (np.ndarray): Training data.\n",
        "    y     (np.ndarray): Training labels.\n",
        "    group (np.ndarray): Array of indices corresponding to group membership.\n",
        "    weight_dict (dict): Dict containing weights for different groups.\n",
        "\n",
        "  Returns:\n",
        "    np.ndarray: Sampled training data\n",
        "    np.ndarray: Corresponding sampled training labels\n",
        "    np.ndarray: Corresponding sampled array of group membership\n",
        "  \"\"\"\n",
        "\n",
        "  # TODO: perform uniform sampling\n",
        "\n",
        "  X_sampled = np.array([])\n",
        "  y_sampled = np.array([])\n",
        "  group_sampled = np.array([])\n",
        "\n",
        "  X_sampled_list=[]\n",
        "  y_sampled_list=[]\n",
        "  group_sampled_list=[]\n",
        "  for g, weight in weight_dict.items():\n",
        "      group_indices = np.where(group == g)[0]\n",
        "      if len(group_indices) == 0:\n",
        "          continue\n",
        "      num_samples = int(weight * len(X))\n",
        "      indices = np.random.choice(np.where(group == g)[0], size=num_samples, replace=True)\n",
        "      X_sampled_list.append(X[indices])\n",
        "      y_sampled_list.append(y[indices])\n",
        "      group_sampled_list.append(group[indices])\n",
        "      X_sampled = np.concatenate(X_sampled_list)\n",
        "      y_sampled = np.concatenate(y_sampled_list)\n",
        "      group_sampled = np.concatenate(group_sampled_list)\n",
        "      X=X_sampled\n",
        "      y=y_sampled\n",
        "      group=group_sampled\n",
        "\n",
        "  p = np.random.permutation(len(X))\n",
        "  X = X[p]\n",
        "  y = y[p]\n",
        "  group = group[p]\n",
        "\n",
        "\n",
        "\n",
        "  return X_sampled, y_sampled, group_sampled\n",
        "\n",
        "# Sample from training data\n",
        "X_sampled, y_sampled, group_sampled = uniform_sampling(X_train, y_train, group_train, weight_dict)\n",
        "\n",
        "model = train(X_sampled, y_sampled)\n",
        "yhat = model.predict(X_test)\n",
        "eval(yhat, y_test, group_test, \"uniform_sampling\")"
      ],
      "metadata": {
        "id": "3_5EUt0r5wl9",
        "colab": {
          "base_uri": "https://localhost:8080/",
          "height": 0
        },
        "outputId": "81e4893c-3725-47ab-b1d4-aa989a97d981"
      },
      "execution_count": 188,
      "outputs": [
        {
          "output_type": "stream",
          "name": "stdout",
          "text": [
            "Results from the uniform_sampling model: \n",
            "the indepence of prediction and group is  1.1141774037852834\n",
            "the true positive separation is  1.012398507790213\n",
            "the false positive separation is  1.1286037365925807\n",
            "the sufficiency of the prediction and the group is 1.2399584500110776\n"
          ]
        }
      ]
    },
    {
      "cell_type": "markdown",
      "source": [
        "## Section 4c: Cost-Sensitive Learning"
      ],
      "metadata": {
        "id": "fFj8AREN51AC"
      }
    },
    {
      "cell_type": "markdown",
      "source": [
        "Train the model using a different measure of cost (not accuracy, but cost-sensitive accuracy) and see what happens to the output.\n",
        "\n",
        "It may be helpful to look at the documentation for the `LogisticRegression` classifier: https://scikit-learn.org/stable/modules/generated/sklearn.linear_model.LogisticRegression.html.\n"
      ],
      "metadata": {
        "id": "hdjDIr2k51AD"
      }
    },
    {
      "cell_type": "code",
      "source": [
        "def train_weighted(X_train, y_train):\n",
        "  \"\"\"\n",
        "  Defines and trains a logistic regression model on the training data.\n",
        "  Applies weighting on training the model.\n",
        "\n",
        "  Args:\n",
        "    X_train (np.ndarray): Training inputs.\n",
        "    y_train (np.ndarray): Training labels.\n",
        "\n",
        "  Returns:\n",
        "    sklearn.pipeline.Pipeline: trained model\n",
        "  \"\"\"\n",
        "\n",
        "  clf = LogisticRegression(class_weight='balanced')\n",
        "  scaler = StandardScaler()\n",
        "  # TODO: train model\n",
        "  model=make_pipeline(scaler,clf)\n",
        "  model.fit(X_train,y_train)\n",
        "  return model\n"
      ],
      "metadata": {
        "id": "oUhcOrQ551AE"
      },
      "execution_count": 189,
      "outputs": []
    },
    {
      "cell_type": "code",
      "source": [
        "weighted_model = train_weighted(X_train, y_train)\n",
        "yhat = weighted_model.predict(X_test)\n",
        "\n",
        "print(\"Results from a model trained with weighting approach: \")\n",
        "print(independence(yhat, group_test))\n",
        "print(separation(yhat, y_test, group_test))\n",
        "print(sufficiency(yhat, y_test, group_test))"
      ],
      "metadata": {
        "id": "ompJ3gQT51AE",
        "colab": {
          "base_uri": "https://localhost:8080/",
          "height": 0
        },
        "outputId": "8b215593-34e2-4165-c06e-166a3c23d44a"
      },
      "execution_count": 190,
      "outputs": [
        {
          "output_type": "stream",
          "name": "stdout",
          "text": [
            "Results from a model trained with weighting approach: \n",
            "1.3277049298614207\n",
            "(1.0889271371199083, 1.5007461191928937)\n",
            "1.1191987998981046\n"
          ]
        }
      ]
    },
    {
      "cell_type": "markdown",
      "source": [
        "## Section 5: Feedback"
      ],
      "metadata": {
        "id": "xtiY4VeLs5CQ"
      }
    },
    {
      "cell_type": "markdown",
      "source": [
        "**Questions:** How long did you spend on this assignment? Were there any questions that you felt were especially challenging or could have been explained better?\n",
        "\n",
        "Is there anything about the assignment or the course currently that you wish could be improved?"
      ],
      "metadata": {
        "id": "5hdkan-rs9K0"
      }
    },
    {
      "cell_type": "markdown",
      "source": [
        "Edit this cell to type in your response below:\n",
        "\n",
        "> Indented block\n",
        "\n"
      ],
      "metadata": {
        "id": "rbhB9Jkit4Xb"
      }
    },
    {
      "cell_type": "markdown",
      "source": [
        "# Submission Instructions\n",
        "Please submit this Colab as **two** files to Gradescope:\n",
        "1.   A `.py` file: Click File > Download > Download .py\n",
        "2.   A `.ipynb` file with outputs: Click Runtime > Run All, and then after all outputs are complete, click File > Download > Download .ipynb\n",
        "\n",
        "Please ensure that the `.ipynb` contains actual function outputs (and not leftover print statements, for instance). We will run your `.ipynb` file; if our outputs don't match the outputs in your submitted file (within reason), you will receive a 0 on this assignment."
      ],
      "metadata": {
        "id": "0xrR78eDV8c-"
      }
    }
  ]
}